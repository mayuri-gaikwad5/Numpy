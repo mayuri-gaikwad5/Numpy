{
 "cells": [
  {
   "cell_type": "markdown",
   "id": "545c10cb-73d1-475d-9fd9-69f2f044265c",
   "metadata": {},
   "source": [
    "# Arithmetic Operations in NumPy Arrays "
   ]
  },
  {
   "cell_type": "markdown",
   "id": "2781743f-ca9f-4a8b-bfb0-7fa40796f90c",
   "metadata": {},
   "source": [
    "- a+b :   np.add(a,b)\n",
    "- a-b :   np.substract(a,b)\n",
    "- a*b :   np.multiply(a,b)\n",
    "- a/b :   np.divide(a,b)\n",
    "- a%b :   np.mod(a,b)\n",
    "- a**b:   np.power(a,b)\n",
    "- 1/a :   np.reciprocal(a)"
   ]
  },
  {
   "cell_type": "markdown",
   "id": "1cbc3da9-b95d-410c-80ed-f73e1eb1caff",
   "metadata": {},
   "source": [
    "# 1-D array"
   ]
  },
  {
   "cell_type": "code",
   "execution_count": 8,
   "id": "8c7c14db-f71d-449e-8fc9-911937a3e13d",
   "metadata": {},
   "outputs": [
    {
     "name": "stdout",
     "output_type": "stream",
     "text": [
      "[4 5 6 7]\n"
     ]
    }
   ],
   "source": [
    "import numpy as np\n",
    "var= np.array([1,2,3,4])\n",
    "varadd=var + 3\n",
    "print(varadd) #each number gets added by 3"
   ]
  },
  {
   "cell_type": "code",
   "execution_count": 10,
   "id": "e40eccab-3df6-4bcc-a15d-f2f80f02f0e3",
   "metadata": {},
   "outputs": [
    {
     "name": "stdout",
     "output_type": "stream",
     "text": [
      "[2 4 6 8]\n"
     ]
    }
   ],
   "source": [
    "import numpy as np\n",
    "var1= np.array([1,2,3,4])\n",
    "var2= np.array([1,2,3,4])\n",
    "varadd=var1 + var2\n",
    "print(varadd)"
   ]
  },
  {
   "cell_type": "code",
   "execution_count": 20,
   "id": "b4444b32-5ae3-44dd-91ee-be34cc93db46",
   "metadata": {},
   "outputs": [
    {
     "name": "stdout",
     "output_type": "stream",
     "text": [
      "[2 4 6 8]\n"
     ]
    }
   ],
   "source": [
    "import numpy as np\n",
    "var1= np.array([1,2,3,4])\n",
    "var2= np.array([1,2,3,4])\n",
    "varadd=np.add(var1,var2)\n",
    "print(varadd)"
   ]
  },
  {
   "cell_type": "code",
   "execution_count": 12,
   "id": "1425a250-cd49-484d-be4c-df3f97fda742",
   "metadata": {},
   "outputs": [
    {
     "name": "stdout",
     "output_type": "stream",
     "text": [
      "[-2 -1  0  1]\n"
     ]
    }
   ],
   "source": [
    "import numpy as np\n",
    "var= np.array([1,2,3,4])\n",
    "varadd=var - 3\n",
    "print(varadd)"
   ]
  },
  {
   "cell_type": "code",
   "execution_count": 14,
   "id": "565416eb-895d-4dd8-bf88-d84146fe9cca",
   "metadata": {},
   "outputs": [
    {
     "name": "stdout",
     "output_type": "stream",
     "text": [
      "[ 3  6  9 12]\n"
     ]
    }
   ],
   "source": [
    "import numpy as np\n",
    "var= np.array([1,2,3,4])\n",
    "varadd=var * 3\n",
    "print(varadd)"
   ]
  },
  {
   "cell_type": "code",
   "execution_count": 16,
   "id": "7a8e5bd3-b550-410c-89ed-c3998b44ef6b",
   "metadata": {},
   "outputs": [
    {
     "name": "stdout",
     "output_type": "stream",
     "text": [
      "[0.33333333 0.66666667 1.         1.33333333]\n"
     ]
    }
   ],
   "source": [
    "import numpy as np\n",
    "var= np.array([1,2,3,4])\n",
    "varadd=var / 3\n",
    "print(varadd)"
   ]
  },
  {
   "cell_type": "code",
   "execution_count": 18,
   "id": "c9aebf1a-9178-49ba-b860-68de86737b00",
   "metadata": {},
   "outputs": [
    {
     "name": "stdout",
     "output_type": "stream",
     "text": [
      "[1 2 0 1]\n"
     ]
    }
   ],
   "source": [
    "import numpy as np\n",
    "var= np.array([1,2,3,4])\n",
    "varadd=var % 3\n",
    "print(varadd)"
   ]
  },
  {
   "cell_type": "code",
   "execution_count": 38,
   "id": "f9b3ba13-0bf9-46fd-890d-24f2a189b718",
   "metadata": {},
   "outputs": [
    {
     "name": "stdout",
     "output_type": "stream",
     "text": [
      "[1 0 0 0]\n"
     ]
    }
   ],
   "source": [
    "import numpy as np\n",
    "var= np.array([1,2,3,4])\n",
    "varadd=np.reciprocal(var)\n",
    "print(varadd)"
   ]
  },
  {
   "cell_type": "markdown",
   "id": "82e3899e-2e22-4c5c-81c5-f62e12b7d13c",
   "metadata": {},
   "source": [
    "# 2-D array"
   ]
  },
  {
   "cell_type": "code",
   "execution_count": 36,
   "id": "a4872385-6fd5-44d2-a650-d33b71c31df2",
   "metadata": {},
   "outputs": [
    {
     "name": "stdout",
     "output_type": "stream",
     "text": [
      "[[1 2 3 4]\n",
      " [1 2 3 4]]\n",
      "\n",
      "[[1 2 3 4]\n",
      " [1 2 3 4]]\n",
      "\n",
      "[[ 1  4  9 16]\n",
      " [ 1  4  9 16]]\n"
     ]
    }
   ],
   "source": [
    "var21= np.array([[1,2,3,4],[1,2,3,4]])\n",
    "var22= np.array([[1,2,3,4],[1,2,3,4]])\n",
    "print(var21)\n",
    "print()\n",
    "print(var22)\n",
    "print()\n",
    "varadd2=var21*var22\n",
    "print(varadd2)"
   ]
  },
  {
   "cell_type": "markdown",
   "id": "d9deb8b8-6b0e-4639-813b-119f13f9ef3c",
   "metadata": {},
   "source": [
    "# Arithmetic Functions"
   ]
  },
  {
   "cell_type": "markdown",
   "id": "dd53dff4-b0ec-4d96-98f9-ffd7aa2d1d29",
   "metadata": {},
   "source": [
    "- np.min(x)\n",
    "- np.max(x)\n",
    "- np.argmin(x)\n",
    "- np.sqrt(x)\n",
    "- np.sin(x)\n",
    "- np.cos(x)\n",
    "- np.cumsum(x)"
   ]
  },
  {
   "cell_type": "code",
   "execution_count": 66,
   "id": "08b3b173-cf16-43c8-90be-4c5790f0f7f5",
   "metadata": {},
   "outputs": [
    {
     "name": "stdout",
     "output_type": "stream",
     "text": [
      "maximum number: 25 0\n",
      "minimum number: 1 4\n",
      "sqrt : [1.         2.         1.73205081 2.         5.         1.73205081\n",
      " 2.         1.41421356]\n"
     ]
    }
   ],
   "source": [
    "import numpy as np\n",
    "\n",
    "var=np.array([1,4,3,4,25,3,4,2])\n",
    "print('maximum number:',np.max(var),np.argmin(var)) # max number, position of a number\n",
    "print('minimum number:',np.min(var),np.argmax(var))\n",
    "print('sqrt :',np.sqrt(var))"
   ]
  },
  {
   "cell_type": "code",
   "execution_count": 60,
   "id": "391abaea-82f1-414d-a1ac-e9703f5fcf75",
   "metadata": {},
   "outputs": [
    {
     "name": "stdout",
     "output_type": "stream",
     "text": [
      "[1 5]\n",
      "[2 1 3]\n"
     ]
    }
   ],
   "source": [
    "var1 = np.array([[2,1,3],[9,5,6]])\n",
    "print(np.min(var1,axis=1)) # axis =1 is for row\n",
    "print(np.min(var1,axis=0)) # axis=0 is for column "
   ]
  },
  {
   "cell_type": "code",
   "execution_count": 70,
   "id": "ef54356f-b8cf-4c38-b38b-373ac1118660",
   "metadata": {},
   "outputs": [
    {
     "name": "stdout",
     "output_type": "stream",
     "text": [
      "[0.84147098 0.90929743 0.14112001]\n",
      "[ 0.54030231 -0.41614684 -0.9899925 ]\n",
      "[1 3 6]\n"
     ]
    }
   ],
   "source": [
    "var2 = np.array([1,2,3])\n",
    "print(np.sin(var2))\n",
    "print(np.cos(var2))\n",
    "print(np.cumsum(var2))"
   ]
  },
  {
   "cell_type": "code",
   "execution_count": null,
   "id": "706d845e-4008-4485-9454-80b5ff2dd826",
   "metadata": {},
   "outputs": [],
   "source": []
  }
 ],
 "metadata": {
  "kernelspec": {
   "display_name": "Python 3 (ipykernel)",
   "language": "python",
   "name": "python3"
  },
  "language_info": {
   "codemirror_mode": {
    "name": "ipython",
    "version": 3
   },
   "file_extension": ".py",
   "mimetype": "text/x-python",
   "name": "python",
   "nbconvert_exporter": "python",
   "pygments_lexer": "ipython3",
   "version": "3.11.7"
  }
 },
 "nbformat": 4,
 "nbformat_minor": 5
}
