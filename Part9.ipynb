{
 "cells": [
  {
   "cell_type": "markdown",
   "id": "a0a4dc14-6a93-47a1-a897-a91e307d16a7",
   "metadata": {},
   "source": [
    "# Join and Split Functions in Numpy Array"
   ]
  },
  {
   "cell_type": "markdown",
   "id": "8a26d33a-6f44-4db9-865f-12c7217c18d7",
   "metadata": {},
   "source": [
    "- Join Array :- Joining means putting contents of two or more arrays in a single array"
   ]
  },
  {
   "cell_type": "markdown",
   "id": "11a174dc-8767-48b9-97cc-a7341c9d0440",
   "metadata": {},
   "source": [
    "### Join array"
   ]
  },
  {
   "cell_type": "markdown",
   "id": "ca09fb3e-6bbd-4037-90e9-3e3cc3938d52",
   "metadata": {},
   "source": [
    "#### Concatenate function"
   ]
  },
  {
   "cell_type": "code",
   "execution_count": 6,
   "id": "17cadfe7-1802-4d71-be35-feba4e0d5486",
   "metadata": {},
   "outputs": [
    {
     "name": "stdout",
     "output_type": "stream",
     "text": [
      "concatenate :-  [1 2 3 4 9 8 7 6]\n"
     ]
    }
   ],
   "source": [
    "import numpy as np\n",
    "\n",
    "var = np.array([1,2,3,4])\n",
    "var1 = np.array([9,8,7,6])\n",
    "\n",
    "#concatenate function\n",
    "\n",
    "ar = np.concatenate((var,var1))\n",
    "print('concatenate :- ',ar)"
   ]
  },
  {
   "cell_type": "code",
   "execution_count": 14,
   "id": "33abb377-92a3-4156-9135-eb5993ba32c6",
   "metadata": {},
   "outputs": [
    {
     "name": "stdout",
     "output_type": "stream",
     "text": [
      "var2 :- \n",
      " [[1 2]\n",
      " [3 4]]\n",
      "var3 :- \n",
      " [[9 8]\n",
      " [7 6]]\n",
      "concatenate along axis 1 :- \n",
      " [[1 2 9 8]\n",
      " [3 4 7 6]]\n",
      "concatenate along axis 0 :- \n",
      " [[1 2]\n",
      " [3 4]\n",
      " [9 8]\n",
      " [7 6]]\n"
     ]
    }
   ],
   "source": [
    "var2 = np.array([[1,2],[3,4]])\n",
    "var3 = np.array([[9,8],[7,6]])\n",
    "\n",
    "#concatenate function\n",
    "print('var2 :- \\n',var2)\n",
    "print('var3 :- \\n',var3)\n",
    "ar1 = np.concatenate((var2,var3),axis=1)\n",
    "ar2 = np.concatenate((var2,var3),axis=0)\n",
    "print('concatenate along axis 1 :- \\n',ar1)\n",
    "print('concatenate along axis 0 :- \\n',ar2)"
   ]
  },
  {
   "cell_type": "markdown",
   "id": "87da5202-60e6-4f6e-9106-9bbd5a814028",
   "metadata": {},
   "source": [
    "### Stack Function"
   ]
  },
  {
   "cell_type": "code",
   "execution_count": 30,
   "id": "58c46b32-d2dc-4936-926a-fddd4a0324b8",
   "metadata": {},
   "outputs": [
    {
     "name": "stdout",
     "output_type": "stream",
     "text": [
      "stack:-\n",
      "  [[1 9]\n",
      " [2 8]\n",
      " [3 7]\n",
      " [4 6]]\n",
      "\n",
      "stack by the row:-\n",
      "  [1 2 3 4 9 8 7 6]\n",
      "\n",
      "stack by the column:-\n",
      "  [[1 2 3 4]\n",
      " [9 8 7 6]]\n",
      "\n",
      "stack by the height:-\n",
      "  [[[1 9]\n",
      "  [2 8]\n",
      "  [3 7]\n",
      "  [4 6]]]\n"
     ]
    }
   ],
   "source": [
    "var4 = np.array([1,2,3,4])\n",
    "var5 = np.array([9,8,7,6])\n",
    "\n",
    "#concatenate function\n",
    "\n",
    "ar3 = np.stack((var4,var5),axis=1)\n",
    "ar4 = np.hstack((var4,var5)) ## row\n",
    "ar5 = np.vstack((var4,var5)) ## column\n",
    "ar6 = np.dstack((var4,var5)) ## height\n",
    "print('stack:-\\n ',ar3)\n",
    "print()\n",
    "print('stack by the row:-\\n ',ar4)\n",
    "print()\n",
    "print('stack by the column:-\\n ',ar5)\n",
    "print()\n",
    "print('stack by the height:-\\n ',ar6)"
   ]
  },
  {
   "cell_type": "markdown",
   "id": "6d5998db-1f41-43ea-9ac5-d510e5bd9ada",
   "metadata": {},
   "source": [
    "## Split Array"
   ]
  },
  {
   "cell_type": "markdown",
   "id": "07842ebd-742d-48d9-b016-cd96eb202396",
   "metadata": {},
   "source": [
    "- Split Array :- Splitting breaks one array into multiple "
   ]
  },
  {
   "cell_type": "markdown",
   "id": "75438999-acba-460c-b52c-1c5c32806155",
   "metadata": {},
   "source": [
    "#### How to split 1-D array?"
   ]
  },
  {
   "cell_type": "code",
   "execution_count": 50,
   "id": "1ad94fdc-bc17-4cee-b57c-468286377c75",
   "metadata": {},
   "outputs": [
    {
     "name": "stdout",
     "output_type": "stream",
     "text": [
      "var \n",
      "  [1 2 3 4 5 6]\n",
      "\n",
      "split array\n",
      " [array([1, 2]), array([3, 4]), array([5, 6])]\n",
      "\n",
      "1st array:- [1 2]\n",
      "\n",
      "<class 'list'>\n"
     ]
    }
   ],
   "source": [
    "import numpy as np\n",
    "var = np.array([1,2,3,4,5,6])\n",
    "print('var \\n ',var)\n",
    "ar = np.array_split(var,3)\n",
    "print()\n",
    "print('split array\\n',ar)\n",
    "print()\n",
    "print('1st array:-',ar[0])\n",
    "print()\n",
    "print(type(ar))"
   ]
  },
  {
   "cell_type": "markdown",
   "id": "f2780075-00ea-46e9-b304-fac60fd6d13c",
   "metadata": {},
   "source": [
    "#### How to split 2-D array?"
   ]
  },
  {
   "cell_type": "code",
   "execution_count": 69,
   "id": "d921f354-1c03-4a50-b7e2-fdbaad449722",
   "metadata": {},
   "outputs": [
    {
     "name": "stdout",
     "output_type": "stream",
     "text": [
      "var1 \n",
      "  [[1 2]\n",
      " [3 4]\n",
      " [5 6]]\n",
      "\n",
      "split array\n",
      " [array([[1, 2],\n",
      "       [3, 4]]), array([[5, 6]])]\n",
      "\n",
      "split array along axis 1\n",
      " [array([[1],\n",
      "       [3],\n",
      "       [5]]), array([[2],\n",
      "       [4],\n",
      "       [6]])]\n",
      "\n",
      "<class 'list'>\n"
     ]
    }
   ],
   "source": [
    "import numpy as np\n",
    "var1 = np.array([[1,2],[3,4],[5,6]])\n",
    "print('var1 \\n ',var1)\n",
    "ar1 = np.array_split(var1,2)\n",
    "ar2 = np.array_split(var1,2,axis=1)\n",
    "print()\n",
    "print('split array\\n',ar1)\n",
    "print()\n",
    "print('split array along axis 1\\n',ar2)\n",
    "print()\n",
    "\n",
    "print(type(ar1))"
   ]
  },
  {
   "cell_type": "code",
   "execution_count": null,
   "id": "13f92618-6430-4f0c-a7e5-20bf069001ad",
   "metadata": {},
   "outputs": [],
   "source": []
  }
 ],
 "metadata": {
  "kernelspec": {
   "display_name": "Python 3 (ipykernel)",
   "language": "python",
   "name": "python3"
  },
  "language_info": {
   "codemirror_mode": {
    "name": "ipython",
    "version": 3
   },
   "file_extension": ".py",
   "mimetype": "text/x-python",
   "name": "python",
   "nbconvert_exporter": "python",
   "pygments_lexer": "ipython3",
   "version": "3.11.7"
  }
 },
 "nbformat": 4,
 "nbformat_minor": 5
}
