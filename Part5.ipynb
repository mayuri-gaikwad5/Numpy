{
 "cells": [
  {
   "cell_type": "markdown",
   "id": "eb00829e-fc74-4591-aaae-20c81ab4e013",
   "metadata": {},
   "source": [
    "# Broadcasting in NumPy"
   ]
  },
  {
   "cell_type": "code",
   "execution_count": 5,
   "id": "cf410af7-e4d5-49f3-9fda-3666a3cece67",
   "metadata": {},
   "outputs": [
    {
     "ename": "ValueError",
     "evalue": "operands could not be broadcast together with shapes (4,) (3,) ",
     "output_type": "error",
     "traceback": [
      "\u001b[1;31m---------------------------------------------------------------------------\u001b[0m",
      "\u001b[1;31mValueError\u001b[0m                                Traceback (most recent call last)",
      "Cell \u001b[1;32mIn[5], line 4\u001b[0m\n\u001b[0;32m      2\u001b[0m var1\u001b[38;5;241m=\u001b[39mnp\u001b[38;5;241m.\u001b[39marray([\u001b[38;5;241m1\u001b[39m,\u001b[38;5;241m2\u001b[39m,\u001b[38;5;241m3\u001b[39m,\u001b[38;5;241m4\u001b[39m])\n\u001b[0;32m      3\u001b[0m var2\u001b[38;5;241m=\u001b[39mnp\u001b[38;5;241m.\u001b[39marray([\u001b[38;5;241m1\u001b[39m,\u001b[38;5;241m2\u001b[39m,\u001b[38;5;241m3\u001b[39m,])\n\u001b[1;32m----> 4\u001b[0m \u001b[38;5;28mprint\u001b[39m(var1\u001b[38;5;241m+\u001b[39mvar2)\n",
      "\u001b[1;31mValueError\u001b[0m: operands could not be broadcast together with shapes (4,) (3,) "
     ]
    }
   ],
   "source": [
    "import numpy as np\n",
    "var1=np.array([1,2,3,4])\n",
    "var2=np.array([1,2,3,])\n",
    "print(var1+var2)"
   ]
  },
  {
   "cell_type": "code",
   "execution_count": 23,
   "id": "90edb956-cdec-4c45-a78a-947e792a62e6",
   "metadata": {},
   "outputs": [
    {
     "name": "stdout",
     "output_type": "stream",
     "text": [
      "Shpae:  (3,)\n",
      "\n",
      "var1:  [1 2 3]\n",
      "\n",
      "Shape: \n",
      " (3, 1)\n",
      "\n",
      "var2: \n",
      " [[1]\n",
      " [2]\n",
      " [3]]\n",
      "\n",
      "Addition:\n",
      " [[2 3 4]\n",
      " [3 4 5]\n",
      " [4 5 6]]\n"
     ]
    }
   ],
   "source": [
    "import numpy as np\n",
    "var1=np.array([1,2,3])\n",
    "print('Shpae: ',var1.shape)\n",
    "print()\n",
    "print('var1: ',var1)\n",
    "print()\n",
    "\n",
    "var2=np.array([[1],[2],[3]])\n",
    "print('Shape: \\n',var2.shape)\n",
    "print()\n",
    "print('var2: \\n',var2)\n",
    "print()\n",
    "\n",
    "print('Addition:\\n',var1+var2)"
   ]
  },
  {
   "cell_type": "code",
   "execution_count": 35,
   "id": "41304c2a-adbc-4502-aede-a0c44bec4d31",
   "metadata": {},
   "outputs": [
    {
     "name": "stdout",
     "output_type": "stream",
     "text": [
      "[[1]\n",
      " [2]]\n",
      "Shape:  (2, 1)\n",
      "\n",
      "[[1 2 3]\n",
      " [1 2 3]]\n",
      "Shape:  (2, 3)\n",
      "\n",
      "addition:\n",
      " [[2 3 4]\n",
      " [3 4 5]]\n"
     ]
    }
   ],
   "source": [
    "x=np.array([[1],[2]])\n",
    "print(x)\n",
    "print('Shape: ',x.shape)\n",
    "print()\n",
    "\n",
    "y=np.array([[1,2,3],[1,2,3]])\n",
    "print(y)\n",
    "print('Shape: ',y.shape)\n",
    "print()\n",
    "\n",
    "print('addition:\\n',x+y)"
   ]
  },
  {
   "cell_type": "code",
   "execution_count": null,
   "id": "55b31da7-7d87-48dd-ac54-77ae6071268d",
   "metadata": {},
   "outputs": [],
   "source": []
  }
 ],
 "metadata": {
  "kernelspec": {
   "display_name": "Python 3 (ipykernel)",
   "language": "python",
   "name": "python3"
  },
  "language_info": {
   "codemirror_mode": {
    "name": "ipython",
    "version": 3
   },
   "file_extension": ".py",
   "mimetype": "text/x-python",
   "name": "python",
   "nbconvert_exporter": "python",
   "pygments_lexer": "ipython3",
   "version": "3.11.7"
  }
 },
 "nbformat": 4,
 "nbformat_minor": 5
}
