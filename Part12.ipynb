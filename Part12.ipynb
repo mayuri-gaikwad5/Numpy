{
 "cells": [
  {
   "cell_type": "markdown",
   "id": "5bb478dd-1813-457b-9511-fc2d1e18c962",
   "metadata": {},
   "source": [
    "# Matrix in NumPy Arrays"
   ]
  },
  {
   "cell_type": "code",
   "execution_count": 12,
   "id": "962962b8-6488-4637-884c-c4f150d73970",
   "metadata": {},
   "outputs": [
    {
     "name": "stdout",
     "output_type": "stream",
     "text": [
      "var\n",
      " [[1 2 3]\n",
      " [1 2 3]]\n",
      "Type:- <class 'numpy.matrix'>\n"
     ]
    }
   ],
   "source": [
    "import numpy as np\n",
    "var = np.matrix([[1,2,3],[1,2,3]])\n",
    "print('var\\n',var)\n",
    "print('Type:-',type(var))"
   ]
  },
  {
   "cell_type": "code",
   "execution_count": 14,
   "id": "bdb41b9b-1c0b-4aea-b688-9132a01d8b89",
   "metadata": {},
   "outputs": [
    {
     "name": "stdout",
     "output_type": "stream",
     "text": [
      "var1\n",
      " [[1 2 3]\n",
      " [1 2 3]]\n",
      "Type:- <class 'numpy.ndarray'>\n"
     ]
    }
   ],
   "source": [
    "var1 = np.array([[1,2,3],[1,2,3]])\n",
    "print('var1\\n',var1)\n",
    "print('Type:-',type(var1))"
   ]
  },
  {
   "cell_type": "markdown",
   "id": "6d74e442-d96f-4436-bfc3-78aca118e486",
   "metadata": {},
   "source": [
    "In matrix multiplication takes places through dot product"
   ]
  },
  {
   "cell_type": "code",
   "execution_count": 32,
   "id": "d910a97c-cc90-4c99-b8e2-94fb1acaaf9f",
   "metadata": {},
   "outputs": [
    {
     "name": "stdout",
     "output_type": "stream",
     "text": [
      "var\n",
      " [[1 2 3]\n",
      " [1 2 3]]\n",
      "var2\n",
      " [[1 2 3]\n",
      " [1 2 3]]\n",
      "\n",
      "Addition;-\n",
      " [[2 4 6]\n",
      " [2 4 6]]\n"
     ]
    }
   ],
   "source": [
    "import numpy as np\n",
    "var = np.matrix([[1,2,3],[1,2,3]])\n",
    "var2 = np.matrix([[1,2,3],[1,2,3]])\n",
    "\n",
    "print('var\\n',var)\n",
    "print('var2\\n',var2)\n",
    "print()\n",
    "print('Addition;-\\n',var+var2)"
   ]
  },
  {
   "cell_type": "code",
   "execution_count": 34,
   "id": "5787807e-6f46-4df4-80e7-50e33fa645a3",
   "metadata": {},
   "outputs": [
    {
     "name": "stdout",
     "output_type": "stream",
     "text": [
      "var\n",
      " [[1 2]\n",
      " [1 2]]\n",
      "var2\n",
      " [[1 2]\n",
      " [1 2]]\n",
      "\n",
      "Addition;-\n",
      " [[2 4]\n",
      " [2 4]]\n",
      "Multiplication;-\n",
      " [[3 6]\n",
      " [3 6]]\n"
     ]
    }
   ],
   "source": [
    "import numpy as np\n",
    "var = np.matrix([[1,2],[1,2]])\n",
    "var2 = np.matrix([[1,2],[1,2]])\n",
    "\n",
    "print('var\\n',var)\n",
    "print('var2\\n',var2)\n",
    "print()\n",
    "print('Addition;-\\n',var+var2)\n",
    "print('Multiplication;-\\n',var.dot(var2))"
   ]
  },
  {
   "cell_type": "markdown",
   "id": "09a34e73-a642-47de-bc0b-956872a6e7f1",
   "metadata": {},
   "source": [
    "# Matrix Function in NumPy Arrays\n",
    "- Transpose\n",
    "- Swapaxes\n",
    "- Inverse\n",
    "- Power\n",
    "- Determinant"
   ]
  },
  {
   "cell_type": "markdown",
   "id": "fe0a43b6-a92f-4f4a-bfd8-edbcceddcf53",
   "metadata": {},
   "source": [
    "## Transpose"
   ]
  },
  {
   "cell_type": "code",
   "execution_count": 49,
   "id": "a71147c0-b486-45de-84ba-eb1dc70d8fd1",
   "metadata": {},
   "outputs": [
    {
     "name": "stdout",
     "output_type": "stream",
     "text": [
      "var\n",
      " [[1 2 3]\n",
      " [4 5 6]]\n",
      "\n",
      "Transpose\n",
      " [[1 4]\n",
      " [2 5]\n",
      " [3 6]]\n",
      "\n",
      " [[1 4]\n",
      " [2 5]\n",
      " [3 6]]\n"
     ]
    }
   ],
   "source": [
    "import numpy as np\n",
    "var = np.matrix([[1,2,3],[4,5,6]])\n",
    "print('var\\n',var)\n",
    "print()\n",
    "print('Transpose\\n',np.transpose(var))\n",
    "print('\\n',var.T)"
   ]
  },
  {
   "cell_type": "markdown",
   "id": "d4429dd0-a496-4552-8acd-a1bc7d66e8c5",
   "metadata": {},
   "source": [
    "## Swapaxes"
   ]
  },
  {
   "cell_type": "code",
   "execution_count": 54,
   "id": "d3a3c2d4-ad7e-4498-b0c5-450c358bd66e",
   "metadata": {},
   "outputs": [
    {
     "name": "stdout",
     "output_type": "stream",
     "text": [
      "var\n",
      " [[1 2 3]\n",
      " [4 5 6]]\n",
      "After Swapping\n",
      "[[1 4]\n",
      " [2 5]\n",
      " [3 6]]\n"
     ]
    }
   ],
   "source": [
    "var = np.matrix([[1,2,3],[4,5,6]])\n",
    "print('var\\n',var)\n",
    "print('After Swapping')\n",
    "print(np.swapaxes(var,0,1)) #converts 0 axis into 1 axis "
   ]
  },
  {
   "cell_type": "code",
   "execution_count": 56,
   "id": "c3be4ce7-e357-4240-85d6-3313f279a5ac",
   "metadata": {},
   "outputs": [
    {
     "name": "stdout",
     "output_type": "stream",
     "text": [
      "var2\n",
      " [[1 2]\n",
      " [3 4]]\n",
      "After Swapping\n",
      "[[1 3]\n",
      " [2 4]]\n"
     ]
    }
   ],
   "source": [
    "var2 = np.matrix([[1,2],[3,4]])\n",
    "print('var2\\n',var2)\n",
    "print('After Swapping')\n",
    "print(np.swapaxes(var2,0,1))"
   ]
  },
  {
   "cell_type": "markdown",
   "id": "3156ec98-fb4b-4fa6-ab9b-64934711bb7d",
   "metadata": {},
   "source": [
    "## Inverse"
   ]
  },
  {
   "cell_type": "code",
   "execution_count": 59,
   "id": "d48efd62-daa7-41e1-9b17-95a35cbbdbf5",
   "metadata": {},
   "outputs": [
    {
     "name": "stdout",
     "output_type": "stream",
     "text": [
      "var3\n",
      " [[1 2]\n",
      " [3 4]]\n",
      "\n",
      "Inverse matrix \n",
      "\n",
      "[[-2.   1. ]\n",
      " [ 1.5 -0.5]]\n"
     ]
    }
   ],
   "source": [
    "var3 = np.matrix([[1,2],[3,4]])\n",
    "print('var3\\n',var3)\n",
    "print()\n",
    "print('Inverse matrix \\n')\n",
    "print(np.linalg.inv(var3))"
   ]
  },
  {
   "cell_type": "markdown",
   "id": "5a4e1291-f522-439c-9d16-6e9dd714f194",
   "metadata": {},
   "source": [
    "## Power"
   ]
  },
  {
   "cell_type": "code",
   "execution_count": 68,
   "id": "485733a8-5add-4a24-af90-c236f544e771",
   "metadata": {},
   "outputs": [
    {
     "name": "stdout",
     "output_type": "stream",
     "text": [
      "var4\n",
      " [[1 2]\n",
      " [3 4]]\n",
      "\n",
      "[[ 7 10]\n",
      " [15 22]]\n",
      "\n",
      "identity Matrix\n",
      "[[1 0]\n",
      " [0 1]]\n",
      "\n",
      "Inverse Matrix\n",
      "[[ 5.5  -2.5 ]\n",
      " [-3.75  1.75]]\n",
      "\n"
     ]
    }
   ],
   "source": [
    "var4 = np.matrix([[1,2],[3,4]])\n",
    "print('var4\\n',var4)\n",
    "print()\n",
    "print(np.linalg.matrix_power(var4,2))\n",
    "print()\n",
    "print('identity Matrix')\n",
    "print(np.linalg.matrix_power(var4,0))\n",
    "print()\n",
    "print('Inverse Matrix')\n",
    "print(np.linalg.matrix_power(var4,-2))\n",
    "print()"
   ]
  },
  {
   "cell_type": "markdown",
   "id": "d997373e-9007-4246-b2b2-ea1c052f576b",
   "metadata": {},
   "source": [
    "## Determinant"
   ]
  },
  {
   "cell_type": "code",
   "execution_count": 80,
   "id": "8f73d0a2-43bd-49fc-a6cc-a064f395ee56",
   "metadata": {},
   "outputs": [
    {
     "name": "stdout",
     "output_type": "stream",
     "text": [
      "var4\n",
      " [[1 2 3]\n",
      " [3 4 3]\n",
      " [1 4 3]]\n",
      "\n",
      "Determinant\n",
      "\n",
      "12.000000000000005\n"
     ]
    }
   ],
   "source": [
    "var5 = np.matrix([[1,2,3],[3,4,3],[1,4,3]])\n",
    "print('var4\\n',var5)\n",
    "print()\n",
    "print('Determinant\\n')\n",
    "print(np.linalg.det(var5))"
   ]
  }
 ],
 "metadata": {
  "kernelspec": {
   "display_name": "Python 3 (ipykernel)",
   "language": "python",
   "name": "python3"
  },
  "language_info": {
   "codemirror_mode": {
    "name": "ipython",
    "version": 3
   },
   "file_extension": ".py",
   "mimetype": "text/x-python",
   "name": "python",
   "nbconvert_exporter": "python",
   "pygments_lexer": "ipython3",
   "version": "3.11.7"
  }
 },
 "nbformat": 4,
 "nbformat_minor": 5
}
