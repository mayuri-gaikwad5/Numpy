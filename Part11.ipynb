{
 "cells": [
  {
   "cell_type": "markdown",
   "id": "61c0b049-ea60-49e2-90b8-bb8856b7137e",
   "metadata": {},
   "source": [
    "# Functions In NumPy"
   ]
  },
  {
   "cell_type": "markdown",
   "id": "1c086ebb-7ef8-4324-ba70-94c85d00b37a",
   "metadata": {},
   "source": [
    "## Arithmetic Functions\n",
    "- Shuffle\n",
    "- Unique\n",
    "- Resize\n",
    "- Flatten\n",
    "- Ravel"
   ]
  },
  {
   "cell_type": "markdown",
   "id": "e57bfca1-3fea-4abc-8104-18169ba6759e",
   "metadata": {},
   "source": [
    "## Shuffle"
   ]
  },
  {
   "cell_type": "code",
   "execution_count": 4,
   "id": "5479f2c2-e3ef-4723-a92b-0f728708b6cd",
   "metadata": {},
   "outputs": [
    {
     "name": "stdout",
     "output_type": "stream",
     "text": [
      "Before Shuffling :-  [1 2 3 4 5]\n",
      "After Shuffling :-  [5 1 2 4 3]\n"
     ]
    }
   ],
   "source": [
    "import numpy as np\n",
    "var = np.array([1,2,3,4,5])\n",
    "print('Before Shuffling :- ',var)\n",
    "np.random.shuffle(var)\n",
    "print('After Shuffling :- ',var)"
   ]
  },
  {
   "cell_type": "markdown",
   "id": "9cbe1496-8905-4404-b933-54104def2191",
   "metadata": {},
   "source": [
    "## Unique"
   ]
  },
  {
   "cell_type": "code",
   "execution_count": 18,
   "id": "c7f60c00-adc3-4658-b4b5-73009a1d7d11",
   "metadata": {},
   "outputs": [
    {
     "name": "stdout",
     "output_type": "stream",
     "text": [
      "var1 :-  [1 2 3 4 2 5 2 6 7]\n",
      "Unique values :-  [1 2 3 4 5 6 7]\n",
      "Index values :- \n",
      " (array([1, 2, 3, 4, 5, 6, 7]), array([0, 1, 2, 3, 5, 7, 8], dtype=int64), array([1, 3, 1, 1, 1, 1, 1], dtype=int64))\n"
     ]
    }
   ],
   "source": [
    "var1 = np.array([1,2,3,4,2,5,2,6,7])\n",
    "print('var1 :- ',var1)\n",
    "x = np.unique(var1)\n",
    "y = np.unique(var1,return_index=True,return_counts=True)\n",
    "print('Unique values :- ',x)\n",
    "print('Index values :- \\n',y)"
   ]
  },
  {
   "cell_type": "markdown",
   "id": "a35ab291-b2b4-499d-94c3-5fecaa86a3e0",
   "metadata": {},
   "source": [
    "## Resize"
   ]
  },
  {
   "cell_type": "code",
   "execution_count": 23,
   "id": "ea8ec96e-4f5c-42e8-8c84-ac644dbd2021",
   "metadata": {},
   "outputs": [
    {
     "name": "stdout",
     "output_type": "stream",
     "text": [
      "Before [1 2 3 4 5 6]\n",
      "resize\n",
      " [[1 2 3]\n",
      " [4 5 6]]\n"
     ]
    }
   ],
   "source": [
    "var2 = np.array([1,2,3,4,5,6])\n",
    "print('Before',var2)\n",
    "y = np.resize(var2,(2,3))\n",
    "print('resize\\n',y)"
   ]
  },
  {
   "cell_type": "markdown",
   "id": "d128738d-53e9-492f-955c-8ad7bfc7935f",
   "metadata": {},
   "source": [
    "## Flatten  and Ravel \n",
    "- Converts 2-D array into 1-D array\n",
    "-  order : {'C','F','A','K'},Optional\n",
    "- 'C' means to flatten in row-major (C-style) order\n",
    "- 'F' means to flatten in column-major(Fortan-style)order\n",
    "- 'A' means to flatten in column-major order if 'a' is Fortan *contiguous* in memory ,row-major order otherwise\n",
    "- 'K' means to flatten 'a' in the order the elements occur in memory\n",
    "- The default is 'C'"
   ]
  },
  {
   "cell_type": "code",
   "execution_count": 54,
   "id": "b68dad27-2e56-43e4-821c-fcb9aaace312",
   "metadata": {},
   "outputs": [
    {
     "name": "stdout",
     "output_type": "stream",
     "text": [
      "Output of y\n",
      " [[1 2]\n",
      " [3 4]\n",
      " [5 6]]\n",
      "\n",
      "Flatten output:- [1 2 3 4 5 6]\n",
      "\n",
      "Flatten order output:- [1 3 5 2 4 6]\n",
      "\n",
      "Ravel [1 3 5 2 4 6]\n"
     ]
    }
   ],
   "source": [
    "var2 = np.array([1,2,3,4,5,6])\n",
    "\n",
    "y = np.resize(var2,(3,2))\n",
    "print('Output of y\\n',y)\n",
    "print()\n",
    "print('Flatten output:-',y.flatten())\n",
    "print()\n",
    "print('Flatten order output:-',y.flatten(order='F')) # change the order\n",
    "print()\n",
    "print('Ravel',np.ravel(y,order='F'))"
   ]
  },
  {
   "cell_type": "markdown",
   "id": "1d450173-0922-4ebc-9d5b-96756791e1ee",
   "metadata": {},
   "source": [
    "# Insert and Delete Functions"
   ]
  },
  {
   "cell_type": "markdown",
   "id": "194d4b47-82d4-4981-8ce5-a5d697ed8827",
   "metadata": {},
   "source": [
    "## Insert"
   ]
  },
  {
   "cell_type": "code",
   "execution_count": 65,
   "id": "ae6b0829-2e0e-479f-9eb0-8020dac627c6",
   "metadata": {},
   "outputs": [
    {
     "name": "stdout",
     "output_type": "stream",
     "text": [
      "var:-  [1 2 3 4 5]\n",
      "[ 1  2 40  3  4 40  5]\n"
     ]
    }
   ],
   "source": [
    "import numpy as np\n",
    "var = np.array([1,2,3,4,5])\n",
    "print('var:- ',var)\n",
    "v = np.insert(var , (2 ,4), 40) # array in which u want to insert,position,value\n",
    "# it will not accept float value accepts only integer\n",
    "print(v)"
   ]
  },
  {
   "cell_type": "code",
   "execution_count": 97,
   "id": "3406d7a5-a836-4a38-9cb4-5dfcba0d3600",
   "metadata": {},
   "outputs": [
    {
     "name": "stdout",
     "output_type": "stream",
     "text": [
      "v1 \n",
      " [[1 2 6 3]\n",
      " [1 2 6 3]]\n",
      "\n",
      "v2 \n",
      " [[1 2 3]\n",
      " [1 2 3]\n",
      " [6 6 6]]\n",
      "\n",
      "v3 \n",
      " [[ 1  2 22  3]\n",
      " [ 1  2 23  3]]\n"
     ]
    }
   ],
   "source": [
    "var1 = np.array([[1,2,3],[1,2,3]])\n",
    "v1 = np.insert(var1 , 2 , 6, axis=1)\n",
    "v2 = np.insert(var1 , 2 , 6, axis=0)\n",
    "v3 = np.insert(var1 , 2,[22,23] , axis=1)\n",
    "\n",
    "print('v1 \\n',v1)\n",
    "print()\n",
    "print('v2 \\n',v2)\n",
    "print()\n",
    "print('v3 \\n',v3)\n"
   ]
  },
  {
   "cell_type": "code",
   "execution_count": 109,
   "id": "b44d7b4b-167d-4ede-93ea-0645f6688354",
   "metadata": {},
   "outputs": [
    {
     "name": "stdout",
     "output_type": "stream",
     "text": [
      "var \n",
      " [[1 2 3]\n",
      " [1 2 3]]\n",
      "\n",
      "Inserted \n",
      "\n",
      "[[ 1  2  3]\n",
      " [ 1  2  3]\n",
      " [45 44 23]]\n"
     ]
    }
   ],
   "source": [
    "var1 = np.array([[1,2,3],[1,2,3]])\n",
    "print('var \\n',var1)\n",
    "print('\\nInserted \\n')\n",
    "x=np.append(var1,[[45,44,23]],axis=0)\n",
    "print(x)"
   ]
  },
  {
   "cell_type": "markdown",
   "id": "f671a15f-32c2-450d-9df5-11bd3f54f827",
   "metadata": {},
   "source": [
    "## Delete "
   ]
  },
  {
   "cell_type": "code",
   "execution_count": 112,
   "id": "1fd625ff-c4a3-46c3-afc9-a9536fd0cffb",
   "metadata": {},
   "outputs": [
    {
     "name": "stdout",
     "output_type": "stream",
     "text": [
      "var:-  [1 2 3 4 5]\n",
      "After deleting:-  [1 2 4 5]\n"
     ]
    }
   ],
   "source": [
    "import numpy as np\n",
    "var = np.array([1,2,3,4,5])\n",
    "print('var:- ',var)\n",
    "d = np.delete(var,2)\n",
    "print('After deleting:- ',d)"
   ]
  }
 ],
 "metadata": {
  "kernelspec": {
   "display_name": "Python 3 (ipykernel)",
   "language": "python",
   "name": "python3"
  },
  "language_info": {
   "codemirror_mode": {
    "name": "ipython",
    "version": 3
   },
   "file_extension": ".py",
   "mimetype": "text/x-python",
   "name": "python",
   "nbconvert_exporter": "python",
   "pygments_lexer": "ipython3",
   "version": "3.11.7"
  }
 },
 "nbformat": 4,
 "nbformat_minor": 5
}
