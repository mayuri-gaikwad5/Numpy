{
 "cells": [
  {
   "cell_type": "markdown",
   "id": "f014c02e-014e-4c66-ae41-f0db6da6de47",
   "metadata": {},
   "source": [
    "# Data Types in NumPy Arrays"
   ]
  },
  {
   "cell_type": "markdown",
   "id": "b8e844f0-092a-4a1e-a196-43feb6a6ea5f",
   "metadata": {},
   "source": [
    "- bool_ : Boolean (True or False) stored as a byte\n",
    "- int_ : Default integer type(same as C long; normally either int64 or int32)\n",
    "- intc : indentical to c int(normally int32 or int64)\n",
    "- intp : integer used for indexing(same as C ssize_t; normally either int32 or int64)\n",
    "- int8 : Byte(-128 to 127)\n",
    "- int16 :integer(-32768 to 32767)\n",
    "- int32 : integer(-2147483648 to 2147483647)\n",
    "- int64 : integer(-9223372036854775808 to 9223372036854775807)\n",
    "- uint8 : unsigned  integer (0 to 255)\n",
    "- uint16 : unsigned integer (0 to 65535)\n",
    "- uint32 : unsigned integer (0 to 4294967295)\n",
    "- uint64 : unsigned integer(0 to 18446744073709551615)\n",
    "- float_ : shorthand for float64\n",
    "- float16 : half percision float: sign bit , 5 bits exponent , 10 bits mantissa\n",
    "- float32 : single percision float:sign bit , 8 bits exponent , 23 bits for mantissa\n",
    "- float64 : Double precision float : sign bit, 11 bits exponent , 52 bits for the mantissa\n",
    "- complex_ : shorthand for complex128\n",
    "- complex64 : complex number, represented by two 32-bit floats( real and imaginary components)\n",
    "- complex128 : complex number, represented by two 64-bit floats (real and imaginary components)\r\n",
    "\r\n"
   ]
  },
  {
   "cell_type": "markdown",
   "id": "bd726975-3f15-4a16-80d2-2b9af78a9a60",
   "metadata": {},
   "source": [
    "## Data Type"
   ]
  },
  {
   "cell_type": "code",
   "execution_count": 13,
   "id": "454805ca-42c2-4ebd-b639-5e9bbfb5712b",
   "metadata": {},
   "outputs": [
    {
     "name": "stdout",
     "output_type": "stream",
     "text": [
      "Data Type : int32\n"
     ]
    }
   ],
   "source": [
    "import numpy as np\n",
    "var = np.array([1,2,3,4,12,13,14,15])\n",
    "print('Data Type :',var.dtype) "
   ]
  },
  {
   "cell_type": "code",
   "execution_count": 15,
   "id": "1910fa28-deb4-4516-85a1-e226ffd8c541",
   "metadata": {},
   "outputs": [
    {
     "name": "stdout",
     "output_type": "stream",
     "text": [
      "Data Type : float64\n"
     ]
    }
   ],
   "source": [
    "var = np.array([1.0,1.2,1.3])\n",
    "print('Data Type :',var.dtype)"
   ]
  },
  {
   "cell_type": "code",
   "execution_count": 17,
   "id": "ea1754bb-64d0-4e3a-b750-c9e14fba0b8b",
   "metadata": {},
   "outputs": [
    {
     "name": "stdout",
     "output_type": "stream",
     "text": [
      "Data Type : <U1\n"
     ]
    }
   ],
   "source": [
    "var = np.array(['m','a','y','u'])\n",
    "print('Data Type :',var.dtype)"
   ]
  },
  {
   "cell_type": "code",
   "execution_count": 19,
   "id": "4ea543f7-67b3-474b-b1df-0770510de521",
   "metadata": {},
   "outputs": [
    {
     "name": "stdout",
     "output_type": "stream",
     "text": [
      "Data Type : <U11\n"
     ]
    }
   ],
   "source": [
    "var = np.array(['m','a','y','u',1,2,3,4])\n",
    "print('Data Type :',var.dtype)"
   ]
  },
  {
   "cell_type": "markdown",
   "id": "0274e1b8-d65a-4611-aceb-075ebe218712",
   "metadata": {},
   "source": [
    "## list of characters that are used to represent dtype in Numpy "
   ]
  },
  {
   "cell_type": "markdown",
   "id": "c4307809-d078-4565-90ef-22df83bcfa5f",
   "metadata": {},
   "source": [
    "- i: integer\n",
    "- b: boolean\n",
    "- u: unsigned integer\n",
    "- f: float\n",
    "- c: complex float\n",
    "- m: timedelta\n",
    "- M: datatime\n",
    "- O: object\n",
    "- S: string\n",
    "- U: Unicode string\n",
    "- V: the fixed chunk of memory for other types(void)"
   ]
  },
  {
   "cell_type": "code",
   "execution_count": 24,
   "id": "eca42c1a-9fb4-4b84-b806-c4def196cfe8",
   "metadata": {},
   "outputs": [
    {
     "name": "stdout",
     "output_type": "stream",
     "text": [
      "Data Type : int32\n"
     ]
    }
   ],
   "source": [
    "x= np.array([1,2,3,4])\n",
    "print('Data Type :',x.dtype)"
   ]
  },
  {
   "cell_type": "code",
   "execution_count": 30,
   "id": "5b09c439-2b06-4d10-a3bf-19dde5856bdb",
   "metadata": {},
   "outputs": [
    {
     "name": "stdout",
     "output_type": "stream",
     "text": [
      "Data Type : int8\n",
      "[1 2 3 4]\n"
     ]
    }
   ],
   "source": [
    "x= np.array([1,2,3,4],dtype=np.int8)\n",
    "print('Data Type :',x.dtype)\n",
    "print(x)"
   ]
  },
  {
   "cell_type": "code",
   "execution_count": 32,
   "id": "eb06808c-8971-406b-bb62-3636767d9d54",
   "metadata": {},
   "outputs": [
    {
     "name": "stdout",
     "output_type": "stream",
     "text": [
      "Data Type : float32\n",
      "[1. 2. 3. 4.]\n"
     ]
    }
   ],
   "source": [
    "x1= np.array([1,2,3,4],dtype= 'f')\n",
    "print('Data Type :',x1.dtype)\n",
    "print(x1)"
   ]
  },
  {
   "cell_type": "code",
   "execution_count": 34,
   "id": "82b3c1e6-aa86-467b-91bc-2dd2cf79de09",
   "metadata": {},
   "outputs": [
    {
     "name": "stdout",
     "output_type": "stream",
     "text": [
      "Data Type : int32\n",
      "[1 2 3 4]\n",
      "[1. 2. 3. 4.]\n",
      "Data Type : float32\n"
     ]
    }
   ],
   "source": [
    "x2= np.array([1,2,3,4])\n",
    "new=np.float32(x2)\n",
    "print('Data Type :',x2.dtype)\n",
    "print(x2)\n",
    "print(new)\n",
    "print('Data Type :',new.dtype)"
   ]
  },
  {
   "cell_type": "code",
   "execution_count": 38,
   "id": "98432d2e-27ab-4753-866f-e62a349a47a4",
   "metadata": {},
   "outputs": [
    {
     "name": "stdout",
     "output_type": "stream",
     "text": [
      "Data Type : int32\n",
      "[1 2 3 4]\n",
      "[1. 2. 3. 4.]\n",
      "Data Type : float32\n",
      "Data Type : int32\n",
      "[1 2 3 4]\n"
     ]
    }
   ],
   "source": [
    "x2= np.array([1,2,3,4])\n",
    "new=np.float32(x2)\n",
    "new_one=np.int_(new)\n",
    "print('Data Type :',x2.dtype)\n",
    "print(x2)\n",
    "print(new)\n",
    "print('Data Type :',new.dtype)\n",
    "print('Data Type :',new_one.dtype)\n",
    "print(new_one)"
   ]
  },
  {
   "cell_type": "code",
   "execution_count": 40,
   "id": "c48f2b8d-1c34-477b-84ae-b2206827f06e",
   "metadata": {},
   "outputs": [
    {
     "name": "stdout",
     "output_type": "stream",
     "text": [
      "[1 2 3 4]\n",
      "[1. 2. 3. 4.]\n"
     ]
    }
   ],
   "source": [
    "x3= np.array([1,2,3,4])\n",
    "new_1 = x3.astype(float)\n",
    "print(x3)\n",
    "print(new_1)"
   ]
  },
  {
   "cell_type": "code",
   "execution_count": null,
   "id": "bc3417d2-c8ca-4e65-ba18-5d60059444ac",
   "metadata": {},
   "outputs": [],
   "source": []
  }
 ],
 "metadata": {
  "kernelspec": {
   "display_name": "Python 3 (ipykernel)",
   "language": "python",
   "name": "python3"
  },
  "language_info": {
   "codemirror_mode": {
    "name": "ipython",
    "version": 3
   },
   "file_extension": ".py",
   "mimetype": "text/x-python",
   "name": "python",
   "nbconvert_exporter": "python",
   "pygments_lexer": "ipython3",
   "version": "3.11.7"
  }
 },
 "nbformat": 4,
 "nbformat_minor": 5
}
