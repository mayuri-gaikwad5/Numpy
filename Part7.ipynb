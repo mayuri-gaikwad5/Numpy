{
 "cells": [
  {
   "cell_type": "markdown",
   "id": "a31339a4-57a8-40e2-8b15-591a15bcc34f",
   "metadata": {},
   "source": [
    "# Iterating NumPy Array"
   ]
  },
  {
   "cell_type": "markdown",
   "id": "0c128471-7cf2-4cfe-91fe-301aa0c383de",
   "metadata": {},
   "source": [
    "##  1-D Array"
   ]
  },
  {
   "cell_type": "code",
   "execution_count": 6,
   "id": "d513c875-79dc-47b0-979d-1fcc5bb274bf",
   "metadata": {},
   "outputs": [
    {
     "name": "stdout",
     "output_type": "stream",
     "text": [
      "[9 8 7 6 5 4]\n",
      "\n",
      "9\n",
      "8\n",
      "7\n",
      "6\n",
      "5\n",
      "4\n"
     ]
    }
   ],
   "source": [
    "import numpy as np\n",
    "var = np.array([9,8,7,6,5,4])\n",
    "print(var)\n",
    "print()\n",
    "for i in var:\n",
    "    print(i)\n",
    "    "
   ]
  },
  {
   "cell_type": "markdown",
   "id": "6719eecd-130e-4aab-a62b-73e34cc0dbec",
   "metadata": {},
   "source": [
    "##  2-D Array"
   ]
  },
  {
   "cell_type": "code",
   "execution_count": 15,
   "id": "45773271-66fc-4e3a-a563-cca12305186b",
   "metadata": {},
   "outputs": [
    {
     "name": "stdout",
     "output_type": "stream",
     "text": [
      "[[1 2 3 4]\n",
      " [1 2 3 4]]\n",
      "\n",
      "[1 2 3 4]\n",
      "[1 2 3 4]\n",
      "\n",
      "1\n",
      "2\n",
      "3\n",
      "4\n",
      "1\n",
      "2\n",
      "3\n",
      "4\n"
     ]
    }
   ],
   "source": [
    "var1 = np.array([[1,2,3,4],[1,2,3,4]])\n",
    "print(var1)\n",
    "print()\n",
    "for j in var1:\n",
    "    print(j)\n",
    "print()\n",
    "\n",
    "for k in var1:\n",
    "    for l in k:\n",
    "        print(l)"
   ]
  },
  {
   "cell_type": "markdown",
   "id": "11b1a87f-a947-4802-9e48-2b35120002d4",
   "metadata": {},
   "source": [
    "## 3-D array"
   ]
  },
  {
   "cell_type": "code",
   "execution_count": 23,
   "id": "9f1ac3d7-652d-47d2-8f25-fae62d71c508",
   "metadata": {},
   "outputs": [
    {
     "name": "stdout",
     "output_type": "stream",
     "text": [
      "[[[1 2 3 4]\n",
      "  [1 2 3 4]]]\n",
      "\n",
      "[1 2 3 4]\n",
      "[1 2 3 4]\n",
      "\n",
      "1\n",
      "2\n",
      "3\n",
      "4\n",
      "1\n",
      "2\n",
      "3\n",
      "4\n"
     ]
    }
   ],
   "source": [
    "var2 = np.array([[[1,2,3,4],[1,2,3,4]]])\n",
    "print(var2)\n",
    "print()\n",
    "for j in var2:\n",
    "    for m in j:\n",
    "        print(m)\n",
    "print()\n",
    "\n",
    "for k in var2:\n",
    "    for l in k:\n",
    "        for m in l:\n",
    "            print(m)"
   ]
  },
  {
   "cell_type": "code",
   "execution_count": 37,
   "id": "6357aa64-192e-425e-b625-0995ed487c55",
   "metadata": {},
   "outputs": [
    {
     "name": "stdout",
     "output_type": "stream",
     "text": [
      "[[[5 6 7 8]\n",
      "  [1 2 3 4]]]\n",
      "\n",
      "[5 6 7 8]\n",
      "[1 2 3 4]\n",
      "\n",
      "b'5'\n",
      "b'6'\n",
      "b'7'\n",
      "b'8'\n",
      "b'1'\n",
      "b'2'\n",
      "b'3'\n",
      "b'4'\n",
      "\n",
      "5\n",
      "6\n",
      "7\n",
      "8\n",
      "1\n",
      "2\n",
      "3\n",
      "4\n"
     ]
    }
   ],
   "source": [
    "var3 = np.array([[[5,6,7,8],[1,2,3,4]]])\n",
    "print(var3)\n",
    "print()\n",
    "for j in var3:\n",
    "    for m in j:\n",
    "        print(m)\n",
    "print()\n",
    "\n",
    "for i in np.nditer(var3,flags=['buffered'],op_dtypes=['S']):\n",
    "    print(i)\n",
    "\n",
    "print()\n",
    "for i in np.nditer(var3):\n",
    "    print(i)"
   ]
  },
  {
   "cell_type": "code",
   "execution_count": 41,
   "id": "8ee9c432-8c32-43f8-969d-494413cd5658",
   "metadata": {},
   "outputs": [
    {
     "name": "stdout",
     "output_type": "stream",
     "text": [
      "[[[5 6 7 8]\n",
      "  [1 2 3 4]]]\n",
      "\n",
      "\n",
      "(0, 0, 0) 5\n",
      "(0, 0, 1) 6\n",
      "(0, 0, 2) 7\n",
      "(0, 0, 3) 8\n",
      "(0, 1, 0) 1\n",
      "(0, 1, 1) 2\n",
      "(0, 1, 2) 3\n",
      "(0, 1, 3) 4\n"
     ]
    }
   ],
   "source": [
    "var3 = np.array([[[5,6,7,8],[1,2,3,4]]])\n",
    "print(var3)\n",
    "print()\n",
    "\n",
    "print()\n",
    "for i,d in np.ndenumerate(var3): ## used for indexing :- function(ndenumerate)\n",
    "    print(i,d)"
   ]
  },
  {
   "cell_type": "code",
   "execution_count": null,
   "id": "cf5498bf-a67c-4c93-8a1c-de9e9ed2d3e4",
   "metadata": {},
   "outputs": [],
   "source": []
  }
 ],
 "metadata": {
  "kernelspec": {
   "display_name": "Python 3 (ipykernel)",
   "language": "python",
   "name": "python3"
  },
  "language_info": {
   "codemirror_mode": {
    "name": "ipython",
    "version": 3
   },
   "file_extension": ".py",
   "mimetype": "text/x-python",
   "name": "python",
   "nbconvert_exporter": "python",
   "pygments_lexer": "ipython3",
   "version": "3.11.7"
  }
 },
 "nbformat": 4,
 "nbformat_minor": 5
}
