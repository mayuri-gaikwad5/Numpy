{
 "cells": [
  {
   "cell_type": "markdown",
   "id": "858d96f6-78e9-40fd-b683-fc471d9f7c9d",
   "metadata": {},
   "source": [
    "# Search , Sort , Search Sorted , Filter"
   ]
  },
  {
   "cell_type": "markdown",
   "id": "30298f64-6862-4a76-94c3-c4ff62ac700b",
   "metadata": {},
   "source": [
    "Search Array:- Search an array for a certain value, and return the indexes that \n",
    "get a match"
   ]
  },
  {
   "cell_type": "markdown",
   "id": "c3a2fef6-c3a1-43e2-b16e-3c0cbc3f74c4",
   "metadata": {},
   "source": [
    "## search"
   ]
  },
  {
   "cell_type": "code",
   "execution_count": 11,
   "id": "67650f36-157c-492f-8ca7-bec722c849b6",
   "metadata": {},
   "outputs": [
    {
     "name": "stdout",
     "output_type": "stream",
     "text": [
      "(array([1, 4, 6], dtype=int64),)\n",
      "(array([0, 1, 3, 4, 6, 9], dtype=int64),)\n"
     ]
    }
   ],
   "source": [
    "import numpy as np\n",
    "var =  np.array([4,2,3,4,2,5,2,5,7,6,7])\n",
    "# index          0,1,2,3,4,5,6,7,8,9,10\n",
    "s = np.where(var == 2) # where is a function which returns the index of the element \n",
    "s1 = np.where((var%2) == 0) # elements which are divisble by 2\n",
    "print(s)\n",
    "print(s1)"
   ]
  },
  {
   "cell_type": "markdown",
   "id": "68d25038-b865-4d32-8270-008ab8035eef",
   "metadata": {},
   "source": [
    "## Search Sorted Array"
   ]
  },
  {
   "cell_type": "markdown",
   "id": "cd1a9cd9-65df-40d3-ae93-2e05e0ceec39",
   "metadata": {},
   "source": [
    "search sorted array:- which performs a binary search in the array , and returns the index where the specified value would be inserted to maintain the search order."
   ]
  },
  {
   "cell_type": "code",
   "execution_count": 26,
   "id": "2b59380d-56f9-4c7e-b7b3-1a325f2ac914",
   "metadata": {},
   "outputs": [
    {
     "name": "stdout",
     "output_type": "stream",
     "text": [
      "4\n"
     ]
    }
   ],
   "source": [
    "import numpy as np\n",
    "var1 =  np.array([4,2,3,4,6,7,8,9,10])\n",
    "# index          0,1,2,3,4,5,6,7,8,9\n",
    "\n",
    "s2 = np.searchsorted(var1 , 5) \n",
    "print(s2) # gives the index where the element can be placed\n"
   ]
  },
  {
   "cell_type": "code",
   "execution_count": 36,
   "id": "93b66968-7308-489a-881a-76fe5e4aa3fe",
   "metadata": {},
   "outputs": [
    {
     "name": "stdout",
     "output_type": "stream",
     "text": [
      "[4 4 4]\n"
     ]
    }
   ],
   "source": [
    "import numpy as np\n",
    "var1 =  np.array([4,2,3,4,9,10])\n",
    "# index          0,1,2,3,4,5\n",
    "\n",
    "s2 = np.searchsorted(var1 , [5,6,7],side='right') \n",
    "print(s2) # gives the index where the element can be placed from right side\n"
   ]
  },
  {
   "cell_type": "markdown",
   "id": "66fe9fd3-b096-4ce0-950b-d84895186d3d",
   "metadata": {},
   "source": [
    "## Sort Array"
   ]
  },
  {
   "cell_type": "markdown",
   "id": "8ea14504-3f93-4859-943e-fd7cc6fbd7b8",
   "metadata": {},
   "source": [
    " Sort Array :- Ordered sequence is any sequence that has an order corresponding to elements , like numeric or alphabetical, ascending or descending."
   ]
  },
  {
   "cell_type": "code",
   "execution_count": 40,
   "id": "c00cc423-09d2-4b39-98af-a9d934f74dab",
   "metadata": {},
   "outputs": [
    {
     "name": "stdout",
     "output_type": "stream",
     "text": [
      "[ 2  3  4  4  5  5  7 12 22]\n"
     ]
    }
   ],
   "source": [
    "var_1 =  np.array([4,2,3,4,12,5,22,5,7])\n",
    "# index          0,1,2,3,4,5,6,7,8,9,10 \n",
    "print(np.sort(var_1))"
   ]
  },
  {
   "cell_type": "code",
   "execution_count": 49,
   "id": "1b38a3b0-65d3-4abb-aabb-4f6289577ae0",
   "metadata": {},
   "outputs": [
    {
     "name": "stdout",
     "output_type": "stream",
     "text": [
      "['a' 'd' 'f' 's']\n"
     ]
    }
   ],
   "source": [
    "var_2 =  np.array(['a','s','d','f'])\n",
    "print(np.sort(var_2))"
   ]
  },
  {
   "cell_type": "markdown",
   "id": "b43f32b6-bc90-44cf-b4c9-6ae319886c47",
   "metadata": {},
   "source": [
    "## Filter Array"
   ]
  },
  {
   "cell_type": "markdown",
   "id": "6be357d9-e576-4623-b728-6c227415124f",
   "metadata": {},
   "source": [
    "Filter Array:- Getting some elements out of an existing array and creating a new array out of them."
   ]
  },
  {
   "cell_type": "code",
   "execution_count": 51,
   "id": "0dd73bbc-e769-4397-80db-472278e3dc36",
   "metadata": {},
   "outputs": [
    {
     "name": "stdout",
     "output_type": "stream",
     "text": [
      "Filtered array:-  ['a' 'f']\n",
      "Type:-  <class 'numpy.ndarray'>\n"
     ]
    }
   ],
   "source": [
    "var_3 =  np.array(['a','s','d','f'])\n",
    "\n",
    "f = [True,False,False,True]\n",
    "new_arr = var_3[f]\n",
    "print(\"Filtered array:- \",new_arr)\n",
    "print('Type:- ',type(new_arr))"
   ]
  },
  {
   "cell_type": "code",
   "execution_count": null,
   "id": "64bba9df-491e-403a-9eb1-fba2a6ee1be5",
   "metadata": {},
   "outputs": [],
   "source": []
  }
 ],
 "metadata": {
  "kernelspec": {
   "display_name": "Python 3 (ipykernel)",
   "language": "python",
   "name": "python3"
  },
  "language_info": {
   "codemirror_mode": {
    "name": "ipython",
    "version": 3
   },
   "file_extension": ".py",
   "mimetype": "text/x-python",
   "name": "python",
   "nbconvert_exporter": "python",
   "pygments_lexer": "ipython3",
   "version": "3.11.7"
  }
 },
 "nbformat": 4,
 "nbformat_minor": 5
}
