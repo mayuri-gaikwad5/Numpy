{
 "cells": [
  {
   "cell_type": "markdown",
   "id": "8508350f-4954-46c2-a763-88afde1fd853",
   "metadata": {},
   "source": [
    "# Difference between NumPy Array and list in Python"
   ]
  },
  {
   "cell_type": "markdown",
   "id": "425a0340-c9fa-4907-8ab0-a2f62907e08b",
   "metadata": {},
   "source": [
    "## 1.Data Type Consistency:\n",
    "Python lists can store different data types in a single list (e.g., integers, strings, floats together), while NumPy arrays are meant to store elements of the same data type, making operations more efficient."
   ]
  },
  {
   "cell_type": "markdown",
   "id": "ab929c32-efe4-4776-9e59-687faf53d94b",
   "metadata": {},
   "source": [
    "## 2.Importing modules"
   ]
  },
  {
   "cell_type": "markdown",
   "id": "95e8f84d-c0e2-4fe4-bfe5-56d4725a9560",
   "metadata": {},
   "source": [
    "#### Python Lists:\n",
    "You don’t need to import any external module to use lists. Lists are a built-in data type in Python. You can create and manipulate them directly."
   ]
  },
  {
   "cell_type": "code",
   "execution_count": 11,
   "id": "11b14283-749b-459d-aa4b-5240ad892d66",
   "metadata": {},
   "outputs": [
    {
     "name": "stdout",
     "output_type": "stream",
     "text": [
      "[1, 2, 3, 4]\n"
     ]
    }
   ],
   "source": [
    "my_list = [1, 2, 3, 4]\n",
    "print(my_list)"
   ]
  },
  {
   "cell_type": "markdown",
   "id": "bc824b92-2a46-437f-be8d-b6bca670920c",
   "metadata": {},
   "source": [
    "#### NumPy Arrays:\n",
    "To use NumPy arrays, you must import the NumPy module first because they are not built into Python's standard library."
   ]
  },
  {
   "cell_type": "code",
   "execution_count": 15,
   "id": "e2a7596c-570a-4e53-be3d-73eac09eae39",
   "metadata": {},
   "outputs": [
    {
     "name": "stdout",
     "output_type": "stream",
     "text": [
      "[1 2 3 4]\n"
     ]
    }
   ],
   "source": [
    "import numpy as np\n",
    "my_array = np.array([1, 2, 3, 4])\n",
    "print(my_array)"
   ]
  },
  {
   "cell_type": "markdown",
   "id": "3219a09d-15ae-487e-9d8c-ffeac7515473",
   "metadata": {},
   "source": [
    "## 3.Numerical Operations"
   ]
  },
  {
   "cell_type": "markdown",
   "id": "38c68f64-b7f1-4fad-b11e-dddfbe8489ef",
   "metadata": {},
   "source": [
    "#### Python Lists:\n",
    "Numerical operations are not supported directly.\n",
    "\n",
    "You must use loops or list comprehensions for operations like addition, multiplication, etc."
   ]
  },
  {
   "cell_type": "markdown",
   "id": "b50167bf-8844-4073-a548-23de6a2fca1c",
   "metadata": {},
   "source": [
    "#### NumPy Arrays:\n",
    "Supports element-wise numerical operations directly.\n",
    "\n",
    "Fast and efficient for mathematical calculations like addition, subtraction, multiplication, etc."
   ]
  },
  {
   "cell_type": "markdown",
   "id": "3c1405c7-e912-4ea0-b3f1-ba01b0a2f7b3",
   "metadata": {},
   "source": [
    "## 4.Modification Capabilities"
   ]
  },
  {
   "cell_type": "markdown",
   "id": "c0fdd347-5325-4888-a97a-f35b2c2577cd",
   "metadata": {},
   "source": [
    "#### Python Lists:\n",
    "- Highly flexible and dynamic.\n",
    "- You can easily:\n",
    "- Add or remove elements (append(), insert(), pop(), remove())\n",
    "- Change size freely\n",
    "- Store mixed data types"
   ]
  },
  {
   "cell_type": "markdown",
   "id": "c2a31941-3c82-4a37-b617-63bb2dd74fb1",
   "metadata": {},
   "source": [
    "#### NumPy Arrays:\n",
    "- Fixed size after creation — you can’t change the size directly.\n",
    "- Supports element-wise updates and slicing, but:\n",
    "- Inserting/removing elements requires creating a new array\n",
    "- Only supports same data type for all elements"
   ]
  },
  {
   "cell_type": "markdown",
   "id": "9adc0ce2-9d10-49df-847a-48ecf33c2ce3",
   "metadata": {},
   "source": [
    "## 5.Consume Less Memory"
   ]
  },
  {
   "cell_type": "markdown",
   "id": "6851ba52-9e68-4fee-af2e-3a995c5115a3",
   "metadata": {},
   "source": [
    "- NumPy arrays: More memory-efficient, especially for large numerical data.\n",
    "- Python lists: More memory overhead due to dynamic typing and object references."
   ]
  },
  {
   "cell_type": "code",
   "execution_count": 37,
   "id": "c7b040ab-d9e0-4026-9dfe-8ed839f9b052",
   "metadata": {},
   "outputs": [
    {
     "name": "stdout",
     "output_type": "stream",
     "text": [
      "806 ns ± 16.6 ns per loop (mean ± std. dev. of 7 runs, 1,000,000 loops each)\n"
     ]
    }
   ],
   "source": [
    "%timeit [j**4 for j in range(1,9)]"
   ]
  },
  {
   "cell_type": "code",
   "execution_count": 39,
   "id": "1a09e0d0-a83e-4dcd-aeae-b1a17f69009c",
   "metadata": {},
   "outputs": [
    {
     "name": "stdout",
     "output_type": "stream",
     "text": [
      "1.8 μs ± 95 ns per loop (mean ± std. dev. of 7 runs, 1,000,000 loops each)\n"
     ]
    }
   ],
   "source": [
    "import numpy as np\n",
    "\n",
    "%timeit np.arange(1,9)**4"
   ]
  },
  {
   "cell_type": "code",
   "execution_count": null,
   "id": "2f024dde-ad2d-4f14-a6d3-e358791600f2",
   "metadata": {},
   "outputs": [],
   "source": []
  }
 ],
 "metadata": {
  "kernelspec": {
   "display_name": "Python 3 (ipykernel)",
   "language": "python",
   "name": "python3"
  },
  "language_info": {
   "codemirror_mode": {
    "name": "ipython",
    "version": 3
   },
   "file_extension": ".py",
   "mimetype": "text/x-python",
   "name": "python",
   "nbconvert_exporter": "python",
   "pygments_lexer": "ipython3",
   "version": "3.11.7"
  }
 },
 "nbformat": 4,
 "nbformat_minor": 5
}
