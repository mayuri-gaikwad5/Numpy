{
 "cells": [
  {
   "cell_type": "markdown",
   "id": "66599149-8d54-4bca-a997-61746a54c965",
   "metadata": {},
   "source": [
    "# Copy Vs View"
   ]
  },
  {
   "cell_type": "code",
   "execution_count": 16,
   "id": "b8ec76f8-bd0b-440a-9321-96ae56a571fa",
   "metadata": {},
   "outputs": [
    {
     "name": "stdout",
     "output_type": "stream",
     "text": [
      "var = [ 1 40  3  4]\n",
      "\n",
      "copy = [ 1  2 10  4]\n"
     ]
    }
   ],
   "source": [
    "import numpy as np\n",
    "var = np.array([1,2,3,4])\n",
    "co = var.copy()\n",
    "var[1] = 40\n",
    "co[2] = 10\n",
    "print('var =',var)\n",
    "print()\n",
    "print('copy =',co)\n"
   ]
  },
  {
   "cell_type": "code",
   "execution_count": 18,
   "id": "ae2a8483-60e9-4fda-a527-a276800504fe",
   "metadata": {},
   "outputs": [
    {
     "name": "stdout",
     "output_type": "stream",
     "text": [
      "x = [ 9 40  7  6  5]\n",
      "\n",
      "view = [ 9 40  7  6  5]\n"
     ]
    }
   ],
   "source": [
    "x = np.array([9,8,7,6,5])\n",
    "vi = x.view()\n",
    "x[1] = 40\n",
    "print('x =',x)\n",
    "print()\n",
    "print('view =',vi)"
   ]
  },
  {
   "cell_type": "markdown",
   "id": "f6026647-a429-4a64-887d-0f99f16aef86",
   "metadata": {},
   "source": [
    "## Difference"
   ]
  },
  {
   "cell_type": "markdown",
   "id": "7e8767c1-4f29-4d60-977c-0bcfb8b92ddc",
   "metadata": {},
   "source": [
    "### Copy "
   ]
  },
  {
   "cell_type": "markdown",
   "id": "def4009e-093f-44af-86f6-07b7b415a2c8",
   "metadata": {},
   "source": [
    "- The copy owns the data.\n",
    "- the copy of an array is an new array.\n",
    "- the changes made in the copy data does not reflect in the original array."
   ]
  },
  {
   "cell_type": "markdown",
   "id": "a6da161a-ff07-4650-a0ce-7251f6795982",
   "metadata": {},
   "source": [
    "### View"
   ]
  },
  {
   "cell_type": "markdown",
   "id": "74838716-af38-4344-a1e6-72ca4f85f1cb",
   "metadata": {},
   "source": [
    "- The view does not own the data.\n",
    "- A view of the original array.\n",
    "- Any changes made to the view will affect the original array,and any changes\n",
    "  made to the original array will affect the view."
   ]
  },
  {
   "cell_type": "code",
   "execution_count": null,
   "id": "8e92cde6-20bd-40a3-a0fb-c8270e4a1418",
   "metadata": {},
   "outputs": [],
   "source": []
  }
 ],
 "metadata": {
  "kernelspec": {
   "display_name": "Python 3 (ipykernel)",
   "language": "python",
   "name": "python3"
  },
  "language_info": {
   "codemirror_mode": {
    "name": "ipython",
    "version": 3
   },
   "file_extension": ".py",
   "mimetype": "text/x-python",
   "name": "python",
   "nbconvert_exporter": "python",
   "pygments_lexer": "ipython3",
   "version": "3.11.7"
  }
 },
 "nbformat": 4,
 "nbformat_minor": 5
}
