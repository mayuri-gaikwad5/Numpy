{
 "cells": [
  {
   "cell_type": "markdown",
   "id": "b60348ff-497d-4c03-94a8-431d61b54bf2",
   "metadata": {},
   "source": [
    "# Indexing and Slicing in Numpy Arrays"
   ]
  },
  {
   "cell_type": "markdown",
   "id": "9f47d66d-d19a-44f5-987e-850c01b8c9ca",
   "metadata": {},
   "source": [
    "# 1. Indexing"
   ]
  },
  {
   "cell_type": "code",
   "execution_count": 8,
   "id": "4b36d1f7-4c83-4c02-8d2b-90cc861edb9e",
   "metadata": {},
   "outputs": [
    {
     "name": "stdout",
     "output_type": "stream",
     "text": [
      "8\n",
      "8\n"
     ]
    }
   ],
   "source": [
    "import numpy as np\n",
    "var = np.array([9,8,7,6])\n",
    "#               0,1,2,3\n",
    "#               -4,-3,-2,-1\n",
    "print(var[1])\n",
    "print(var[-3])"
   ]
  },
  {
   "cell_type": "code",
   "execution_count": null,
   "id": "e88f196e-065d-47f5-b3dd-a33799fbbb86",
   "metadata": {},
   "outputs": [],
   "source": [
    "#----->column\n",
    "#  1 2 3\n",
    "#[[9 8 7] ---> zero row\n",
    "# [4 5 6]] ---> first row"
   ]
  },
  {
   "cell_type": "code",
   "execution_count": 26,
   "id": "ae142e85-e87b-4f75-ac49-fc447604a282",
   "metadata": {},
   "outputs": [
    {
     "name": "stdout",
     "output_type": "stream",
     "text": [
      "[[9 8 7]\n",
      " [4 5 6]]\n",
      "\n",
      "Dimension: 2\n",
      "\n",
      "zero row 1st column: 9\n",
      "zero row 2nd column: 8\n",
      "zero row 3rd column: 7\n",
      "first row 1st column: 4\n",
      "first row 2nd column: 5\n",
      "first row 3rd column: 6\n"
     ]
    }
   ],
   "source": [
    "var1 = np.array([[9,8,7],[4,5,6]])\n",
    "print(var1)\n",
    "print()\n",
    "print('Dimension:',var1.ndim)\n",
    "print()\n",
    "print('zero row 1st column:',var1[0,0])\n",
    "print('zero row 2nd column:',var1[0,1])\n",
    "print('zero row 3rd column:',var1[0,2])\n",
    "print('first row 1st column:',var1[1,0])\n",
    "print('first row 2nd column:',var1[1,1])\n",
    "print('first row 3rd column:',var1[1,2])"
   ]
  },
  {
   "cell_type": "code",
   "execution_count": 60,
   "id": "baa7948a-e8ec-40fa-9285-85f47abc9ca0",
   "metadata": {},
   "outputs": [
    {
     "name": "stdout",
     "output_type": "stream",
     "text": [
      "[[[1 2]\n",
      "  [6 7]]]\n",
      "Dimension: 3\n",
      "\n",
      "1\n",
      "2\n",
      "6\n",
      "7\n"
     ]
    }
   ],
   "source": [
    "var2 = np.array([[[1,2],[6,7]]])\n",
    "print(var2)\n",
    "print('Dimension:',var2.ndim)\n",
    "print()\n",
    "print(var2[0,0,0])\n",
    "print(var2[0,0,1])\n",
    "print(var2[0,1,0])\n",
    "print(var2[0,1,1])"
   ]
  },
  {
   "cell_type": "markdown",
   "id": "e1b861ee-0c3b-4b36-85c4-bebef3830905",
   "metadata": {},
   "source": [
    "# 2. Slicing"
   ]
  },
  {
   "cell_type": "code",
   "execution_count": 85,
   "id": "53885a77-3769-4c0f-8ff9-68af76f5fdc2",
   "metadata": {
    "scrolled": true
   },
   "outputs": [
    {
     "name": "stdout",
     "output_type": "stream",
     "text": [
      "[1 2 3 4 5 6 7]\n",
      "2 to 5:-  [2 3 4 5]\n",
      "\n",
      "2 to End:-  [2 3 4 5 6 7]\n",
      "\n",
      "Start to 5:-  [1 2 3 4 5]\n",
      "\n",
      "stop:-  [2 4]\n",
      "stop:-  [1 3 5 7]\n"
     ]
    }
   ],
   "source": [
    "import numpy as np\n",
    "var = np.array([1,2,3,4,5,6,7])\n",
    "#               0,1,2,3,4,5,6\n",
    "print(var)\n",
    "print(\"2 to 5:- \",var[1:5]) #(start,stop)\n",
    "print()\n",
    "print(\"2 to End:- \",var[1:])\n",
    "print()\n",
    "print(\"Start to 5:- \",var[:5])\n",
    "print()\n",
    "print('stop:- ',var[1:5:2]) #(start , stop, step)\n",
    "print('stop:- ',var[::2])"
   ]
  },
  {
   "cell_type": "code",
   "execution_count": 87,
   "id": "4017b511-481d-49dd-9261-aefe158f1590",
   "metadata": {},
   "outputs": [],
   "source": [
    "# 2-D array\n",
    "\n",
    "#------> index\n",
    "#   0   1  2  3\n",
    "# [[9  8  7  6] ----> row 0\n",
    "#  [11 12 13 14]]----> row 1"
   ]
  },
  {
   "cell_type": "code",
   "execution_count": 91,
   "id": "ac641b41-f6f9-4d13-ad2e-5966e9df0f52",
   "metadata": {},
   "outputs": [
    {
     "name": "stdout",
     "output_type": "stream",
     "text": [
      "[[ 1  2  3  4  5]\n",
      " [ 9  8  7  6  5]\n",
      " [11 12 13 14 15]]\n",
      "\n",
      "8 to 5:- [8 7 6 5]\n"
     ]
    }
   ],
   "source": [
    "var1 = np.array([[1,2,3,4,5],[9,8,7,6,5],[11,12,13,14,15]])\n",
    "#                 0,1,2,3,4   0,1,2,3,4   0 ,1 ,2 ,3 ,4\n",
    "#                 ---0-----   ----1-----  -----2-------\n",
    "print(var1)\n",
    "print()\n",
    "\n",
    "print('8 to 5:-',var1[1,1:])"
   ]
  },
  {
   "cell_type": "code",
   "execution_count": null,
   "id": "57360873-95b7-4570-af26-ca4c3089c75f",
   "metadata": {},
   "outputs": [],
   "source": []
  }
 ],
 "metadata": {
  "kernelspec": {
   "display_name": "Python 3 (ipykernel)",
   "language": "python",
   "name": "python3"
  },
  "language_info": {
   "codemirror_mode": {
    "name": "ipython",
    "version": 3
   },
   "file_extension": ".py",
   "mimetype": "text/x-python",
   "name": "python",
   "nbconvert_exporter": "python",
   "pygments_lexer": "ipython3",
   "version": "3.11.7"
  }
 },
 "nbformat": 4,
 "nbformat_minor": 5
}
