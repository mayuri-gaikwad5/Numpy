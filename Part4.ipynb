{
 "cells": [
  {
   "cell_type": "markdown",
   "id": "752fe828-21f1-490e-9bcd-2fa84e31e01f",
   "metadata": {},
   "source": [
    "# Shape & Reshaping in NumPy Arrays"
   ]
  },
  {
   "cell_type": "markdown",
   "id": "118f55ff-73e0-4501-b3bc-7319c9a635a8",
   "metadata": {},
   "source": [
    "## shape"
   ]
  },
  {
   "cell_type": "code",
   "execution_count": 9,
   "id": "14303242-1ff2-43a2-9a36-fa8ba3946f3d",
   "metadata": {},
   "outputs": [
    {
     "name": "stdout",
     "output_type": "stream",
     "text": [
      "[[1 2 3 4]\n",
      " [1 2 3 4]]\n",
      "\n",
      "(2, 4)\n"
     ]
    }
   ],
   "source": [
    "import numpy as np\n",
    "\n",
    "var=np.array([[1,2,3,4],[1,2,3,4]])\n",
    "print(var)\n",
    "print()\n",
    "print(var.shape)"
   ]
  },
  {
   "cell_type": "code",
   "execution_count": 59,
   "id": "708f0db9-8b6f-49cd-bdec-bd57cb5810d4",
   "metadata": {},
   "outputs": [
    {
     "name": "stdout",
     "output_type": "stream",
     "text": [
      "[[[[1 2 3 4]]]]\n",
      "\n",
      "Dimension: 4\n",
      "\n",
      "(1, 1, 1, 4)\n"
     ]
    }
   ],
   "source": [
    "var1 = np.array([1,2,3,4],ndmin=4)\n",
    "print(var1)\n",
    "print()\n",
    "print('Dimension:',var1.ndim)\n",
    "print()\n",
    "print(var1.shape)"
   ]
  },
  {
   "cell_type": "markdown",
   "id": "4aa94f9a-082c-49ae-aec9-38a29cd597a7",
   "metadata": {},
   "source": [
    "## Reshape"
   ]
  },
  {
   "cell_type": "code",
   "execution_count": 57,
   "id": "57be5358-d53f-4f35-9d5b-347831bb0090",
   "metadata": {},
   "outputs": [
    {
     "name": "stdout",
     "output_type": "stream",
     "text": [
      "[1 2 3 4 5 6]\n",
      "Dimension: 1\n",
      "\n",
      "[[1 2 3]\n",
      " [4 5 6]]\n",
      "Dimension: 2\n"
     ]
    }
   ],
   "source": [
    "var2 = np.array([1,2,3,4,5,6])\n",
    "print(var2)\n",
    "print('Dimension:',var2.ndim)\n",
    "print()\n",
    "x = var2.reshape(2,3)\n",
    "print(x)\n",
    "print('Dimension:',x.ndim)"
   ]
  },
  {
   "cell_type": "code",
   "execution_count": 55,
   "id": "9592a753-ee46-4ce6-8927-a081491016d9",
   "metadata": {},
   "outputs": [
    {
     "name": "stdout",
     "output_type": "stream",
     "text": [
      "[ 1  2  3  4  5  6  7  8  9 10 11 12]\n",
      "Dimension: 1\n",
      "\n",
      "[[[ 1  2]\n",
      "  [ 3  4]\n",
      "  [ 5  6]]\n",
      "\n",
      " [[ 7  8]\n",
      "  [ 9 10]\n",
      "  [11 12]]]\n",
      "Dimension: 3\n"
     ]
    }
   ],
   "source": [
    "var3 = np.array([1,2,3,4,5,6,7,8,9,10,11,12])\n",
    "print(var3)\n",
    "print('Dimension:',var3.ndim)\n",
    "print()\n",
    "x1 = var3.reshape(2,3,2)\n",
    "print(x1)\n",
    "print('Dimension:',x1.ndim)"
   ]
  },
  {
   "cell_type": "code",
   "execution_count": 53,
   "id": "06174d2e-dd3c-4215-9a01-24ef09a8015e",
   "metadata": {},
   "outputs": [
    {
     "name": "stdout",
     "output_type": "stream",
     "text": [
      "[ 1  2  3  4  5  6  7  8  9 10 11 12]\n",
      "Dimension: 1\n",
      "\n",
      "[[[ 1  2]\n",
      "  [ 3  4]\n",
      "  [ 5  6]]\n",
      "\n",
      " [[ 7  8]\n",
      "  [ 9 10]\n",
      "  [11 12]]]\n",
      "Dimension: 3\n",
      "reshaping....\n",
      "\n",
      "[ 1  2  3  4  5  6  7  8  9 10 11 12]\n",
      "Dimension: 1\n"
     ]
    }
   ],
   "source": [
    "var3 = np.array([1,2,3,4,5,6,7,8,9,10,11,12])\n",
    "print(var3)\n",
    "print('Dimension:',var3.ndim)\n",
    "\n",
    "print()\n",
    "\n",
    "x1 = var3.reshape(2,3,2)\n",
    "print(x1)\n",
    "print('Dimension:',x1.ndim)\n",
    "\n",
    "print('reshaping....')\n",
    "print()\n",
    "one=x1.reshape(-1)\n",
    "print(one)\n",
    "print('Dimension:',one.ndim)"
   ]
  },
  {
   "cell_type": "code",
   "execution_count": null,
   "id": "c843cdb1-cbfa-4db2-a8e4-e4f21f507ca1",
   "metadata": {},
   "outputs": [],
   "source": []
  }
 ],
 "metadata": {
  "kernelspec": {
   "display_name": "Python 3 (ipykernel)",
   "language": "python",
   "name": "python3"
  },
  "language_info": {
   "codemirror_mode": {
    "name": "ipython",
    "version": 3
   },
   "file_extension": ".py",
   "mimetype": "text/x-python",
   "name": "python",
   "nbconvert_exporter": "python",
   "pygments_lexer": "ipython3",
   "version": "3.11.7"
  }
 },
 "nbformat": 4,
 "nbformat_minor": 5
}
