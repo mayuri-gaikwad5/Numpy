{
 "cells": [
  {
   "cell_type": "markdown",
   "id": "b6010d2a-bf48-4318-97dd-453fd5ce7752",
   "metadata": {},
   "source": [
    "# Creating NumPy Arrays"
   ]
  },
  {
   "cell_type": "markdown",
   "id": "d2d8b3b7-0629-493e-b3e9-872636660c8a",
   "metadata": {},
   "source": [
    "#### To create a NumPy array , you can use the function np.array()"
   ]
  },
  {
   "cell_type": "code",
   "execution_count": 7,
   "id": "55e7c00f-e3b8-4ada-b202-2d64da143e5f",
   "metadata": {},
   "outputs": [
    {
     "name": "stdout",
     "output_type": "stream",
     "text": [
      "[1 2 3]\n",
      "<class 'numpy.ndarray'>\n"
     ]
    }
   ],
   "source": [
    "import numpy as np\n",
    "a = np.array([1,2,3])\n",
    "print(a)\n",
    "print(type(a))"
   ]
  },
  {
   "cell_type": "code",
   "execution_count": 11,
   "id": "833da6a9-0a89-4d90-b86d-c3c883195873",
   "metadata": {},
   "outputs": [
    {
     "name": "stdin",
     "output_type": "stream",
     "text": [
      "Enter : 12\n",
      "Enter : 13\n",
      "Enter : 14\n",
      "Enter : 15\n"
     ]
    },
    {
     "name": "stdout",
     "output_type": "stream",
     "text": [
      "[12 13 14 15]\n"
     ]
    }
   ],
   "source": [
    "l=[]\n",
    "for i in range(1,5):\n",
    "    int_1=int(input('Enter :'))\n",
    "    l.append(int_1)\n",
    "print(np.array(l))"
   ]
  },
  {
   "cell_type": "markdown",
   "id": "93ce60b3-c2b6-47aa-a1c1-9a32382ddf1c",
   "metadata": {},
   "source": [
    "## Dimensions in Array \n",
    "- 1-D Arrays\n",
    "- 2-D Arrays\n",
    "- 3-D Arrays\n",
    "- Higher Dimensional Arrays"
   ]
  },
  {
   "cell_type": "code",
   "execution_count": 17,
   "id": "5b1de68b-5774-40b3-b0ea-41e018f227b9",
   "metadata": {},
   "outputs": [
    {
     "name": "stdout",
     "output_type": "stream",
     "text": [
      "[[1 2 3 4]\n",
      " [1 2 3 4]]\n",
      "dimensions= 2\n"
     ]
    }
   ],
   "source": [
    "arr2=np.array([[1,2,3,4],[1,2,3,4]])\n",
    "print(arr2)\n",
    "print('dimensions=' ,arr2.ndim)"
   ]
  },
  {
   "cell_type": "code",
   "execution_count": 23,
   "id": "740afdc6-96ed-4fa2-a32a-15eb44e8e6b1",
   "metadata": {},
   "outputs": [
    {
     "name": "stdout",
     "output_type": "stream",
     "text": [
      "[[[1 2 3 4]\n",
      "  [6 7 8 9]]]\n",
      "dimensions= 3\n"
     ]
    }
   ],
   "source": [
    "arr3=np.array([[[1,2,3,4],[6,7,8,9]]])\n",
    "print(arr3)\n",
    "print('dimensions=' ,arr3.ndim)"
   ]
  },
  {
   "cell_type": "code",
   "execution_count": 27,
   "id": "4fb3a8da-56b9-4f5d-8818-ed18bb0282ca",
   "metadata": {},
   "outputs": [
    {
     "name": "stdout",
     "output_type": "stream",
     "text": [
      "[[[[[[[[[[1 2 3 4]]]]]]]]]]\n",
      "dimensions 10\n"
     ]
    }
   ],
   "source": [
    "arrn=np.array([1,2,3,4],ndmin=10) #ndim for creating n dimensions\n",
    "print(arrn)\n",
    "print('dimensions',arrn.ndim)"
   ]
  },
  {
   "cell_type": "markdown",
   "id": "551ca04f-d2a9-4ccb-aaa2-7d04727f3e42",
   "metadata": {},
   "source": [
    "## Special NumPy Array \n",
    "- array filled with 0's\n",
    "- array filled with 1's\n",
    "- create an empty array\n",
    "- an array with a range of elements\n",
    "- array diagonal element filled with 1's\n",
    "- create a array with values that are spaced linearly in a specified interval"
   ]
  },
  {
   "cell_type": "markdown",
   "id": "f1b4a7f1-151e-46d6-a566-7bfa68768c02",
   "metadata": {},
   "source": [
    "#### zeros"
   ]
  },
  {
   "cell_type": "code",
   "execution_count": 44,
   "id": "2afb27ff-261b-4160-aa48-2b1c87d76f35",
   "metadata": {},
   "outputs": [
    {
     "name": "stdout",
     "output_type": "stream",
     "text": [
      "[0. 0. 0. 0.]\n",
      "\n",
      "\n",
      "[[0. 0. 0. 0.]\n",
      " [0. 0. 0. 0.]\n",
      " [0. 0. 0. 0.]]\n"
     ]
    }
   ],
   "source": [
    "import numpy as np\n",
    "arr_zero = np.zeros(4)\n",
    "arr_zero1 = np.zeros((3,4))  # 3 rows 4 columns\n",
    "print(arr_zero)\n",
    "print('\\n')\n",
    "print(arr_zero1)"
   ]
  },
  {
   "cell_type": "markdown",
   "id": "53dfe10e-c949-4629-b17a-4bf24fd4b754",
   "metadata": {},
   "source": [
    "#### ones"
   ]
  },
  {
   "cell_type": "code",
   "execution_count": 53,
   "id": "37d55ac7-4a7f-4fb6-81d3-fa42d88b93ca",
   "metadata": {},
   "outputs": [
    {
     "name": "stdout",
     "output_type": "stream",
     "text": [
      "[1. 1. 1. 1.]\n",
      "\n",
      "\n",
      "[[1. 1. 1. 1.]\n",
      " [1. 1. 1. 1.]\n",
      " [1. 1. 1. 1.]]\n"
     ]
    }
   ],
   "source": [
    "import numpy as np\n",
    "arr_one = np.ones(4)\n",
    "arr_one1 = np.ones((3,4))  # 3 rows 4 columns\n",
    "print(arr_one)\n",
    "print('\\n')\n",
    "print(arr_one1)"
   ]
  },
  {
   "cell_type": "markdown",
   "id": "78c33813-cd86-46d2-b427-e984ed99592a",
   "metadata": {},
   "source": [
    "#### Empty"
   ]
  },
  {
   "cell_type": "code",
   "execution_count": 56,
   "id": "c9b16810-cab6-4134-80e3-9afd9568b6b4",
   "metadata": {},
   "outputs": [
    {
     "name": "stdout",
     "output_type": "stream",
     "text": [
      "[1. 1. 1. 1.]\n"
     ]
    }
   ],
   "source": [
    "arr_emp=np.empty(4)\n",
    "print(arr_emp)"
   ]
  },
  {
   "cell_type": "markdown",
   "id": "633dceb3-2261-43eb-8314-0ef5cd5887c0",
   "metadata": {},
   "source": [
    "#### range"
   ]
  },
  {
   "cell_type": "code",
   "execution_count": 61,
   "id": "dacec9e2-d175-479f-a120-c9d2958a2f53",
   "metadata": {},
   "outputs": [
    {
     "name": "stdout",
     "output_type": "stream",
     "text": [
      "[0 1 2 3]\n"
     ]
    }
   ],
   "source": [
    "arr_rn= np.arange(4)\n",
    "print(arr_rn)"
   ]
  },
  {
   "cell_type": "markdown",
   "id": "12c4ab42-1ed4-4632-a7d7-25f4d4fe74a8",
   "metadata": {},
   "source": [
    "#### Diagonal"
   ]
  },
  {
   "cell_type": "code",
   "execution_count": 66,
   "id": "e3da13c8-8625-4b97-b672-e3a3cef2a29e",
   "metadata": {},
   "outputs": [
    {
     "name": "stdout",
     "output_type": "stream",
     "text": [
      "[[1. 0. 0.]\n",
      " [0. 1. 0.]\n",
      " [0. 0. 1.]]\n"
     ]
    }
   ],
   "source": [
    "arr_dia = np.eye(3)\n",
    "print(arr_dia)"
   ]
  },
  {
   "cell_type": "code",
   "execution_count": 68,
   "id": "c5859af5-5656-47c3-895e-66778aae8d1d",
   "metadata": {},
   "outputs": [
    {
     "name": "stdout",
     "output_type": "stream",
     "text": [
      "[[1. 0. 0. 0. 0.]\n",
      " [0. 1. 0. 0. 0.]\n",
      " [0. 0. 1. 0. 0.]]\n"
     ]
    }
   ],
   "source": [
    "arr_dia = np.eye(3,5)\n",
    "print(arr_dia)"
   ]
  },
  {
   "cell_type": "markdown",
   "id": "e3019f5c-0a8e-46d7-be99-6eedc252f07e",
   "metadata": {},
   "source": [
    "#### Linspace"
   ]
  },
  {
   "cell_type": "code",
   "execution_count": 72,
   "id": "9c08bf12-9bea-417a-8720-d66417fc5735",
   "metadata": {},
   "outputs": [
    {
     "name": "stdout",
     "output_type": "stream",
     "text": [
      "[ 1.    3.25  5.5   7.75 10.  ]\n"
     ]
    }
   ],
   "source": [
    "arr_lin=np.linspace(1,10,num=5)\n",
    "print(arr_lin)"
   ]
  },
  {
   "cell_type": "markdown",
   "id": "046b87e4-1851-48a6-8e89-e2529212aeff",
   "metadata": {},
   "source": [
    "# Create NumPy Arrays with Random Numbers"
   ]
  },
  {
   "cell_type": "markdown",
   "id": "4135021a-5dc9-401d-912c-e1f8c26f08e4",
   "metadata": {},
   "source": [
    "### 1. rand()\n",
    "- rand() : the function is used to generate a random number between 0 to 1"
   ]
  },
  {
   "cell_type": "code",
   "execution_count": 4,
   "id": "5476f7f4-b0dd-4c57-b8f1-9290b66f5cc2",
   "metadata": {},
   "outputs": [
    {
     "name": "stdout",
     "output_type": "stream",
     "text": [
      "[0.59144552 0.39355172 0.688822   0.65727285]\n"
     ]
    }
   ],
   "source": [
    "import numpy as np \n",
    "\n",
    "var = np.random.rand(4)\n",
    "print(var)"
   ]
  },
  {
   "cell_type": "code",
   "execution_count": 6,
   "id": "6d066a72-be21-4431-95d0-e841c3cbe5f4",
   "metadata": {},
   "outputs": [
    {
     "name": "stdout",
     "output_type": "stream",
     "text": [
      "[[0.18001337 0.34133453 0.56020195 0.87712259 0.83678118]\n",
      " [0.78844627 0.74536219 0.84626592 0.39463241 0.23991548]]\n"
     ]
    }
   ],
   "source": [
    "var1=np.random.rand(2,5)\n",
    "print(var1)"
   ]
  },
  {
   "cell_type": "markdown",
   "id": "ef4215d8-9c92-4c9f-a556-e6341f4815fd",
   "metadata": {},
   "source": [
    "### 2. randn()\n",
    "- randn() : the function is used to generate a random value cloase to zero.\n",
    "   This may return positive or negative numbers as well."
   ]
  },
  {
   "cell_type": "code",
   "execution_count": 12,
   "id": "d331bb36-7b23-407c-935a-0a79c7d5fe68",
   "metadata": {},
   "outputs": [
    {
     "name": "stdout",
     "output_type": "stream",
     "text": [
      "[-0.90282377  0.83315867 -0.97782838 -0.20361621]\n"
     ]
    }
   ],
   "source": [
    "var2 = np.random.randn(4)\n",
    "print(var2)"
   ]
  },
  {
   "cell_type": "markdown",
   "id": "829ea0c6-3d08-429e-81ca-c1ea6d25b045",
   "metadata": {},
   "source": [
    "### 3. ranf()\n",
    "- ranf() : the function for doing random sampling in numpy . It returns an array of specified shape and fills it with random floats in the half open interval [0.0,1.0)"
   ]
  },
  {
   "cell_type": "code",
   "execution_count": 19,
   "id": "b9add34b-0d57-4a40-a835-ecbaae268355",
   "metadata": {},
   "outputs": [
    {
     "name": "stdout",
     "output_type": "stream",
     "text": [
      "[0.95747664 0.55213651 0.19080814 0.31665953]\n"
     ]
    }
   ],
   "source": [
    "var3=np.random.ranf(4)\n",
    "print(var3)"
   ]
  },
  {
   "cell_type": "markdown",
   "id": "2aad5c58-5783-4c9e-8ec0-a461cc059678",
   "metadata": {},
   "source": [
    "### 4. randint()\n",
    "- the function is used to generate a random number between a given range."
   ]
  },
  {
   "cell_type": "code",
   "execution_count": 23,
   "id": "b88755d0-4816-42ef-82f6-8e9d30129818",
   "metadata": {},
   "outputs": [
    {
     "name": "stdout",
     "output_type": "stream",
     "text": [
      "[ 5 19 17  9 12]\n"
     ]
    }
   ],
   "source": [
    "var4 = np.random.randint(5,20,5) #min,max,total_values\n",
    "print(var4)"
   ]
  },
  {
   "cell_type": "code",
   "execution_count": null,
   "id": "f7dda5a1-3930-4ffd-bfbd-8b8a183fd66b",
   "metadata": {},
   "outputs": [],
   "source": []
  }
 ],
 "metadata": {
  "kernelspec": {
   "display_name": "Python 3 (ipykernel)",
   "language": "python",
   "name": "python3"
  },
  "language_info": {
   "codemirror_mode": {
    "name": "ipython",
    "version": 3
   },
   "file_extension": ".py",
   "mimetype": "text/x-python",
   "name": "python",
   "nbconvert_exporter": "python",
   "pygments_lexer": "ipython3",
   "version": "3.11.7"
  }
 },
 "nbformat": 4,
 "nbformat_minor": 5
}
